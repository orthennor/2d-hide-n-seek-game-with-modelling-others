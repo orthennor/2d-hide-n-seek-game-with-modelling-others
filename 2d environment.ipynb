{
 "cells": [
  {
   "cell_type": "code",
   "execution_count": 2,
   "metadata": {},
   "outputs": [],
   "source": [
    "import numpy as np\n",
    "import random\n",
    "from collections import defaultdict"
   ]
  },
  {
   "cell_type": "code",
   "execution_count": 2,
   "metadata": {},
   "outputs": [],
   "source": [
    "class env:\n",
    "    def __init__(self, map_version, step_limit, debug = 0, use_seed = False, seed = 42):\n",
    "        \n",
    "        self.seed = seed\n",
    "        self.use_seed = use_seed\n",
    "        \n",
    "        if self.use_seed:\n",
    "            random.seed(self.seed)\n",
    "            \n",
    "\n",
    "        self.debug = debug\n",
    "        self.size = size\n",
    "        self.base_step_limit = step_limit\n",
    "        self.step_limit = self.base_step_limit\n",
    "        #self.valid_moves = ['up', 'down', 'left', 'right', 'pass']\n",
    "        self.valid_moves = [0, 1, 2, 3, 4]\n",
    "        self.move_map = {0:[-1,0], \n",
    "                         1:[1,0], \n",
    "                         2:[0,-1], \n",
    "                         3:[0,1], \n",
    "                         4:[0,0]}\n",
    "        self.initialize_map()\n",
    "        self.initialize_resources()\n",
    "        \n",
    "\n",
    "    \n",
    "    def initialize_map_1(self):\n",
    "        self.map = np.zeros((16, 16), dtype=int)\n",
    "        \n",
    "        \n",
    "    def initialize_resources(self):\n",
    "        self.resources = []\n",
    "        index = [i for i in range(self.size**2) if (i != 0) and (i != self.size-1)]\n",
    "        all_indexes = random.sample(index, self.number_of_resources*self.amount_of_resource)\n",
    "        res_ind = []\n",
    "        for i in range(self.number_of_resources):\n",
    "            resource = random.sample(all_indexes, self.amount_of_resource)\n",
    "            all_indexes = [r for r in all_indexes if r not in resource]\n",
    "            resource = [(int(r/self.size),r%self.size) for r in resource]\n",
    "            empty_map = np.zeros((self.size, self.size), dtype=int)\n",
    "            for ind in range(len(resource)):\n",
    "                x, y = resource[ind][0], resource[ind][1]                \n",
    "                self.map[x, y] = i+1\n",
    "                empty_map[x, y] = 1\n",
    "            self.resources.append(empty_map)\n",
    "        goal_index = [i for i in range(self.number_of_resources)]\n",
    "        goals = random.sample(goal_index, 2)\n",
    "        self.agents_goals = goals\n",
    "        self.agents_res_collected = [[], []]\n",
    "        self.agents_self_goal_collected = [0, 0]\n",
    "        self.agents_othr_goal_collected = [0, 0]\n",
    "        self.agents_nthr_goal_collected = [0, 0]\n",
    "                \n",
    "    def step(self, agent_numb, move_code):\n",
    "        if self.step_limit == 0:\n",
    "            if self.debug:\n",
    "                print('step limit reached, error')\n",
    "        else:\n",
    "            self.step_limit -= 1\n",
    "            if self.debug:\n",
    "                print(self.step_limit, 'steps left')\n",
    "        if move_code not in self.valid_moves:\n",
    "            if self.debug:\n",
    "                print('icorrect move')\n",
    "        else:\n",
    "            agent_old_coords = self.agents_coords[agent_numb]\n",
    "            move = self.move_map[move_code]\n",
    "            agent_new_coords = l3 = [l+r for l,r in zip(agent_old_coords, move)]\n",
    "            correct_move = True\n",
    "            for coord in agent_new_coords:\n",
    "                if (coord < 0) or (coord >= self.size):\n",
    "                    if self.debug:\n",
    "                        print('icorrect move')\n",
    "                    correct_move = False\n",
    "            other_coords = self.agents_coords[1-agent_numb]\n",
    "            if agent_new_coords == other_coords:\n",
    "                if self.debug:\n",
    "                    print('icorrect move')\n",
    "                correct_move = False\n",
    "            if correct_move:\n",
    "                self.map[agent_old_coords[0],agent_old_coords[1]] = 0\n",
    "                self.map[agent_new_coords[0],agent_new_coords[1]] = -1 - agent_numb\n",
    "                self.agents_coords[agent_numb] = agent_new_coords\n",
    "                for res in range(self.number_of_resources):\n",
    "                    if self.resources[res][agent_new_coords[0],agent_new_coords[1]] != 0:\n",
    "                        self.agents_res_collected[agent_numb].append(res)\n",
    "                        self.resources[res][agent_new_coords[0],agent_new_coords[1]] = 0\n",
    "                        if res == self.agents_goals[agent_numb]:\n",
    "                            self.agents_self_goal_collected[agent_numb]+=1\n",
    "                            if self.debug:\n",
    "                                print('collected self goal resource:', res)\n",
    "                        elif res == self.agents_goals[1 - agent_numb]:\n",
    "                            self.agents_othr_goal_collected[agent_numb]+=1\n",
    "                            if self.debug:\n",
    "                                print('collected other goal resource:', res)\n",
    "                        else:\n",
    "                            self.agents_nthr_goal_collected[agent_numb]+=1\n",
    "                            if self.debug:\n",
    "                                print('collected neither goal resource:', res)\n",
    "                            \n",
    "    def observation(self, agent_numb, with_map = 0):\n",
    "        feature_vec = []\n",
    "        self_other_coords = [self.agents_coords[agent_numb], \n",
    "                             self.agents_coords[1 - agent_numb] \n",
    "                            ]\n",
    "        for agnt_coords in self_other_coords:\n",
    "            agent_map = np.zeros((self.size, self.size), dtype=int)\n",
    "            agent_map[agnt_coords[0],agnt_coords[1]] = 1\n",
    "            agent_map = np.reshape(agent_map, self.size*self.size)\n",
    "            feature_vec.extend(agent_map)\n",
    "            \n",
    "        for res in range(len(self.resources)):\n",
    "            feature_vec.extend(np.reshape(self.resources[res], self.size*self.size))\n",
    "        \n",
    "        if with_map:\n",
    "            feature_vec.extend(np.reshape(self.map, self.size*self.size))\n",
    "        \n",
    "        return feature_vec\n",
    "    \n",
    "    def reward(self):\n",
    "        \n",
    "        n_self_c_self = self.agents_self_goal_collected[0]\n",
    "        n_othr_c_self = self.agents_othr_goal_collected[1]\n",
    "        \n",
    "        n_self_c_othr = self.agents_othr_goal_collected[0]\n",
    "        n_othr_c_othr = self.agents_self_goal_collected[1]\n",
    "        \n",
    "        n_self_c_nthr = self.agents_nthr_goal_collected[0]\n",
    "        n_othr_c_nthr = self.agents_nthr_goal_collected[1]\n",
    "        \n",
    "        reward = (n_self_c_self + n_othr_c_self)**2 + \\\n",
    "                 (n_self_c_othr + n_othr_c_othr)**2 - \\\n",
    "                 (n_self_c_nthr + n_othr_c_nthr)**2 \n",
    "        \n",
    "        return reward\n",
    "\n",
    "    def reset(self):\n",
    "        if self.use_seed:\n",
    "            random.seed(self.seed)\n",
    "        self.step_limit = self.base_step_limit\n",
    "        self.initialize_map()\n",
    "        self.initialize_resources()"
   ]
  },
  {
   "cell_type": "code",
   "execution_count": 3,
   "metadata": {},
   "outputs": [],
   "source": [
    "buffer_ag_1 = []\n",
    "buffer_ag_2 = []\n",
    "\n",
    "def sample_from_buffer(buffer, batch_size=1):\n",
    "    batch = random.sample(buffer,batch_size)\n",
    "    inputs = [i[0] for i in batch]\n",
    "    actions = [i[1] for i in batch]\n",
    "    revards = [i[2] for i in batch]\n",
    "    \n",
    "    inputs = torch.FloatTensor(inputs)\n",
    "    actions = torch.FloatTensor(actions)\n",
    "    revards = torch.FloatTensor(revards)\n",
    "    \n",
    "    return inputs, actions, revards"
   ]
  },
  {
   "cell_type": "code",
   "execution_count": null,
   "metadata": {},
   "outputs": [],
   "source": [
    "def create_map():\n",
    "    "
   ]
  },
  {
   "cell_type": "code",
   "execution_count": null,
   "metadata": {},
   "outputs": [],
   "source": [
    "# 107, 110, 115"
   ]
  },
  {
   "cell_type": "code",
   "execution_count": 48,
   "metadata": {},
   "outputs": [
    {
     "data": {
      "text/plain": [
       "array([[-1,  0,  1,  0,  0,  0,  0,  0,  0, -2],\n",
       "       [ 0,  0,  0,  0,  0,  0,  0,  0,  0,  0],\n",
       "       [ 0,  0,  0,  0,  0,  2,  3,  0,  0,  0],\n",
       "       [ 0,  3,  0,  0,  0,  0,  0,  0,  0,  0],\n",
       "       [ 0,  0,  0,  1,  0,  0,  1,  0,  0,  0],\n",
       "       [ 0,  0,  2,  1,  3,  0,  0,  0,  0,  0],\n",
       "       [ 0,  0,  0,  0,  2,  0,  0,  2,  0,  3],\n",
       "       [ 0,  0,  0,  0,  0,  0,  0,  0,  0,  0],\n",
       "       [ 0,  0,  0,  0,  0,  0,  0,  0,  0,  0],\n",
       "       [ 0,  0,  0,  0,  0,  0,  0,  0,  0,  0]])"
      ]
     },
     "execution_count": 48,
     "metadata": {},
     "output_type": "execute_result"
    }
   ],
   "source": [
    "env_1 = env(10, 20, seed = 137)\n",
    "env_1.map"
   ]
  },
  {
   "cell_type": "code",
   "execution_count": 41,
   "metadata": {},
   "outputs": [],
   "source": [
    "env_1.reset()"
   ]
  },
  {
   "cell_type": "code",
   "execution_count": 42,
   "metadata": {},
   "outputs": [
    {
     "data": {
      "text/plain": [
       "[0, 2]"
      ]
     },
     "execution_count": 42,
     "metadata": {},
     "output_type": "execute_result"
    }
   ],
   "source": [
    "env_1.agents_goals"
   ]
  },
  {
   "cell_type": "code",
   "execution_count": 43,
   "metadata": {},
   "outputs": [
    {
     "data": {
      "text/plain": [
       "array([[-1,  0,  0,  0,  0,  0,  1, -2],\n",
       "       [ 0,  0,  0,  0,  3,  0,  0,  1],\n",
       "       [ 0,  0,  1,  0,  0,  2,  0,  0],\n",
       "       [ 0,  1,  0,  0,  0,  0,  0,  0],\n",
       "       [ 0,  0,  0,  0,  0,  0,  0,  0],\n",
       "       [ 3,  0,  0,  0,  2,  0,  0,  0],\n",
       "       [ 0,  2,  0,  0,  0,  2,  0,  3],\n",
       "       [ 0,  0,  0,  0,  0,  0,  0,  3]])"
      ]
     },
     "execution_count": 43,
     "metadata": {},
     "output_type": "execute_result"
    }
   ],
   "source": [
    "env_1.map"
   ]
  },
  {
   "cell_type": "code",
   "execution_count": 445,
   "metadata": {},
   "outputs": [],
   "source": [
    "#self.valid_moves = ['up', 'down', 'left', 'right', 'pass']\n",
    "#self.valid_moves = [0, 1, 2, 3, 4]"
   ]
  },
  {
   "cell_type": "code",
   "execution_count": 7,
   "metadata": {},
   "outputs": [],
   "source": [
    "map_ = np.zeros((18, 18), dtype=int)"
   ]
  },
  {
   "cell_type": "code",
   "execution_count": 74,
   "metadata": {},
   "outputs": [],
   "source": [
    "map_size = 16\n",
    "def create_empty_map_v1(map_size):\n",
    "    if isinstance(map_size, int):\n",
    "        if map_size >=6:\n",
    "            # create empty map with aaditional place for external walls\n",
    "            map_obj = np.zeros((map_size+2, map_size+2), dtype=int)\n",
    "            # add external walls\n",
    "            map_obj[0], map_obj[-1] = 1, 1\n",
    "            for i in range(map_size+2):\n",
    "                map_obj[i][0], map_obj[i][-1] = 1, 1\n",
    "\n",
    "            # add room, with side of half of the map size\n",
    "            room_size = map_size//2\n",
    "            map_obj[-(room_size+1)][-(room_size+1):] = 1\n",
    "            for j in range(room_size):\n",
    "                map_obj[-(j+1)][-(room_size+1)]=1\n",
    "\n",
    "            # add doors in both walls of the room\n",
    "            map_obj[-(room_size+1)][-2:-1] = 0\n",
    "            map_obj[-(room_size-1)][-(room_size+1)] = 0\n",
    "            return(map_obj)\n",
    "        elif map_size < 6 and map_size >= 0:\n",
    "            print('Error: map size is too small, correct size is 6+')\n",
    "    else:\n",
    "        print('Error: incorrect map size type: expected int')"
   ]
  },
  {
   "cell_type": "code",
   "execution_count": 76,
   "metadata": {},
   "outputs": [
    {
     "name": "stdout",
     "output_type": "stream",
     "text": [
      "[[1 1 1 1 1 1 1 1 1 1 1 1 1 1 1 1 1 1]\n",
      " [1 0 0 0 0 0 0 0 0 0 0 0 0 0 0 0 0 1]\n",
      " [1 0 0 0 0 0 0 0 0 0 0 0 0 0 0 0 0 1]\n",
      " [1 0 0 0 0 0 0 0 0 0 0 0 0 0 0 0 0 1]\n",
      " [1 0 0 0 0 0 0 0 0 0 0 0 0 0 0 0 0 1]\n",
      " [1 0 0 0 0 0 0 0 0 0 0 0 0 0 0 0 0 1]\n",
      " [1 0 0 0 0 0 0 0 0 0 0 0 0 0 0 0 0 1]\n",
      " [1 0 0 0 0 0 0 0 0 0 0 0 0 0 0 0 0 1]\n",
      " [1 0 0 0 0 0 0 0 0 0 0 0 0 0 0 0 0 1]\n",
      " [1 0 0 0 0 0 0 0 0 1 1 1 1 1 1 1 0 1]\n",
      " [1 0 0 0 0 0 0 0 0 1 0 0 0 0 0 0 0 1]\n",
      " [1 0 0 0 0 0 0 0 0 0 0 0 0 0 0 0 0 1]\n",
      " [1 0 0 0 0 0 0 0 0 1 0 0 0 0 0 0 0 1]\n",
      " [1 0 0 0 0 0 0 0 0 1 0 0 0 0 0 0 0 1]\n",
      " [1 0 0 0 0 0 0 0 0 1 0 0 0 0 0 0 0 1]\n",
      " [1 0 0 0 0 0 0 0 0 1 0 0 0 0 0 0 0 1]\n",
      " [1 0 0 0 0 0 0 0 0 1 0 0 0 0 0 0 0 1]\n",
      " [1 1 1 1 1 1 1 1 1 1 1 1 1 1 1 1 1 1]]\n"
     ]
    }
   ],
   "source": [
    "map_1 = create_empty_map_v1(16)\n",
    "print(map_1)"
   ]
  },
  {
   "cell_type": "code",
   "execution_count": 69,
   "metadata": {},
   "outputs": [
    {
     "data": {
      "text/plain": [
       "True"
      ]
     },
     "execution_count": 69,
     "metadata": {},
     "output_type": "execute_result"
    }
   ],
   "source": []
  },
  {
   "cell_type": "code",
   "execution_count": 29,
   "metadata": {},
   "outputs": [
    {
     "data": {
      "text/plain": [
       "14"
      ]
     },
     "execution_count": 29,
     "metadata": {},
     "output_type": "execute_result"
    }
   ],
   "source": [
    "29//2"
   ]
  },
  {
   "cell_type": "code",
   "execution_count": null,
   "metadata": {},
   "outputs": [],
   "source": []
  }
 ],
 "metadata": {
  "kernelspec": {
   "display_name": "Python 3",
   "language": "python",
   "name": "python3"
  },
  "language_info": {
   "codemirror_mode": {
    "name": "ipython",
    "version": 3
   },
   "file_extension": ".py",
   "mimetype": "text/x-python",
   "name": "python",
   "nbconvert_exporter": "python",
   "pygments_lexer": "ipython3",
   "version": "3.7.3"
  }
 },
 "nbformat": 4,
 "nbformat_minor": 2
}
