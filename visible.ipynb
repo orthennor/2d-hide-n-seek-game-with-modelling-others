{
  "nbformat": 4,
  "nbformat_minor": 0,
  "metadata": {
    "colab": {
      "name": "visible.ipynb",
      "provenance": [],
      "collapsed_sections": []
    },
    "kernelspec": {
      "name": "python3",
      "display_name": "Python 3"
    }
  },
  "cells": [
    {
      "cell_type": "code",
      "metadata": {
        "id": "aZAU1tIJRfvC",
        "colab_type": "code",
        "colab": {}
      },
      "source": [
        "from fractions import Fraction"
      ],
      "execution_count": 0,
      "outputs": []
    },
    {
      "cell_type": "code",
      "metadata": {
        "id": "036NyiuM2jEV",
        "colab_type": "code",
        "colab": {}
      },
      "source": [
        "import numpy as np\n",
        "import random\n",
        "from collections import defaultdict"
      ],
      "execution_count": 0,
      "outputs": []
    },
    {
      "cell_type": "code",
      "metadata": {
        "id": "_TySqlYM2kDu",
        "colab_type": "code",
        "colab": {}
      },
      "source": [
        "map_size = 16\n",
        "def create_empty_map_v1(map_size):\n",
        "    if isinstance(map_size, int):\n",
        "        if map_size >=6:\n",
        "            # create empty map with aaditional place for external walls\n",
        "            map_obj = np.zeros((map_size+2, map_size+2), dtype=int)\n",
        "            # add external walls\n",
        "            map_obj[0], map_obj[-1] = 1, 1\n",
        "            for i in range(map_size+2):\n",
        "                map_obj[i][0], map_obj[i][-1] = 1, 1\n",
        "\n",
        "            # add room, with side of half of the map size\n",
        "            room_size = map_size//2\n",
        "            map_obj[-(room_size+1)][-(room_size+1):] = 1\n",
        "            for j in range(room_size):\n",
        "                map_obj[-(j+1)][-(room_size+1)]=1\n",
        "\n",
        "            # add doors in both walls of the room\n",
        "            map_obj[-(room_size+1)][-2:-1] = 0\n",
        "            map_obj[-(room_size-1)][-(room_size+1)] = 0\n",
        "            return(map_obj)\n",
        "        elif map_size < 6 and map_size >= 0:\n",
        "            print('Error: map size is too small, correct size is 6+')\n",
        "    else:\n",
        "        print('Error: incorrect map size type: expected int')"
      ],
      "execution_count": 0,
      "outputs": []
    },
    {
      "cell_type": "code",
      "metadata": {
        "id": "FACh6CpI2rt9",
        "colab_type": "code",
        "outputId": "00ae95c2-c336-4429-a299-ae7c4ade82c7",
        "colab": {
          "base_uri": "https://localhost:8080/",
          "height": 323
        }
      },
      "source": [
        "map_1 = create_empty_map_v1(16)\n",
        "map_1"
      ],
      "execution_count": 4,
      "outputs": [
        {
          "output_type": "execute_result",
          "data": {
            "text/plain": [
              "array([[1, 1, 1, 1, 1, 1, 1, 1, 1, 1, 1, 1, 1, 1, 1, 1, 1, 1],\n",
              "       [1, 0, 0, 0, 0, 0, 0, 0, 0, 0, 0, 0, 0, 0, 0, 0, 0, 1],\n",
              "       [1, 0, 0, 0, 0, 0, 0, 0, 0, 0, 0, 0, 0, 0, 0, 0, 0, 1],\n",
              "       [1, 0, 0, 0, 0, 0, 0, 0, 0, 0, 0, 0, 0, 0, 0, 0, 0, 1],\n",
              "       [1, 0, 0, 0, 0, 0, 0, 0, 0, 0, 0, 0, 0, 0, 0, 0, 0, 1],\n",
              "       [1, 0, 0, 0, 0, 0, 0, 0, 0, 0, 0, 0, 0, 0, 0, 0, 0, 1],\n",
              "       [1, 0, 0, 0, 0, 0, 0, 0, 0, 0, 0, 0, 0, 0, 0, 0, 0, 1],\n",
              "       [1, 0, 0, 0, 0, 0, 0, 0, 0, 0, 0, 0, 0, 0, 0, 0, 0, 1],\n",
              "       [1, 0, 0, 0, 0, 0, 0, 0, 0, 0, 0, 0, 0, 0, 0, 0, 0, 1],\n",
              "       [1, 0, 0, 0, 0, 0, 0, 0, 0, 1, 1, 1, 1, 1, 1, 1, 0, 1],\n",
              "       [1, 0, 0, 0, 0, 0, 0, 0, 0, 1, 0, 0, 0, 0, 0, 0, 0, 1],\n",
              "       [1, 0, 0, 0, 0, 0, 0, 0, 0, 0, 0, 0, 0, 0, 0, 0, 0, 1],\n",
              "       [1, 0, 0, 0, 0, 0, 0, 0, 0, 1, 0, 0, 0, 0, 0, 0, 0, 1],\n",
              "       [1, 0, 0, 0, 0, 0, 0, 0, 0, 1, 0, 0, 0, 0, 0, 0, 0, 1],\n",
              "       [1, 0, 0, 0, 0, 0, 0, 0, 0, 1, 0, 0, 0, 0, 0, 0, 0, 1],\n",
              "       [1, 0, 0, 0, 0, 0, 0, 0, 0, 1, 0, 0, 0, 0, 0, 0, 0, 1],\n",
              "       [1, 0, 0, 0, 0, 0, 0, 0, 0, 1, 0, 0, 0, 0, 0, 0, 0, 1],\n",
              "       [1, 1, 1, 1, 1, 1, 1, 1, 1, 1, 1, 1, 1, 1, 1, 1, 1, 1]])"
            ]
          },
          "metadata": {
            "tags": []
          },
          "execution_count": 4
        }
      ]
    },
    {
      "cell_type": "code",
      "metadata": {
        "id": "mOPUHv4KpBa6",
        "colab_type": "code",
        "colab": {}
      },
      "source": [
        "a = Fraction('1/3')"
      ],
      "execution_count": 0,
      "outputs": []
    },
    {
      "cell_type": "code",
      "metadata": {
        "id": "iSDBV6ZFpHwg",
        "colab_type": "code",
        "outputId": "f70c1b30-b3cf-4de9-d103-a306677eade4",
        "colab": {
          "base_uri": "https://localhost:8080/",
          "height": 34
        }
      },
      "source": [
        "float(a)"
      ],
      "execution_count": 6,
      "outputs": [
        {
          "output_type": "execute_result",
          "data": {
            "text/plain": [
              "0.3333333333333333"
            ]
          },
          "metadata": {
            "tags": []
          },
          "execution_count": 6
        }
      ]
    },
    {
      "cell_type": "code",
      "metadata": {
        "id": "4bnjjCxy7YRX",
        "colab_type": "code",
        "colab": {}
      },
      "source": [
        "class segment:\n",
        "    def __init__(self, begin, end):\n",
        "        self.begin = min(begin, end)\n",
        "        self.end = max(end, begin)\n",
        "    def __sub__(self, seg_b):\n",
        "        if(seg_b.begin >= self.end or seg_b.end <= self.begin):\n",
        "            return segment(self.begin, self.end)\n",
        "        elif (self.begin >= seg_b.begin and self.end <= seg_b.end):\n",
        "            return segment(0, 0)\n",
        "        else:\n",
        "            if seg_b.end <= self.end:\n",
        "                return segment(seg_b.end, self.end)\n",
        "            else:\n",
        "                return segment(self.begin, seg_b.begin)\n",
        "            return segment\n",
        "    def __add__(self, seg_b):\n",
        "        if(seg_b.begin >= self.end or seg_b.end <= self.begin):\n",
        "            return segment(self.begin, self.end)\n",
        "        else:\n",
        "            return segment(min(self.begin, seg_b.begin), max(self.end, seg_b.end))\n",
        "    def len(self):\n",
        "        return self.end - self.begin\n",
        "\n",
        "def intersect(seg_a, seg_b):\n",
        "    if(seg_b.begin >= seg_a.end or seg_b.end <= seg_a.begin):\n",
        "        return False\n",
        "    return True"
      ],
      "execution_count": 0,
      "outputs": []
    },
    {
      "cell_type": "code",
      "metadata": {
        "id": "CXPQCgOdWBde",
        "colab_type": "code",
        "outputId": "c15b0893-fa5d-4944-a4ed-6b6d758dc29c",
        "colab": {
          "base_uri": "https://localhost:8080/",
          "height": 34
        }
      },
      "source": [
        "a = segment(0, 1)\n",
        "b = segment(0, 0.5)\n",
        "(a - b).len()"
      ],
      "execution_count": 8,
      "outputs": [
        {
          "output_type": "execute_result",
          "data": {
            "text/plain": [
              "0.5"
            ]
          },
          "metadata": {
            "tags": []
          },
          "execution_count": 8
        }
      ]
    },
    {
      "cell_type": "code",
      "metadata": {
        "id": "J8FZV_yHYCE8",
        "colab_type": "code",
        "outputId": "a3ad3baf-644d-4dc2-ba1f-b37d35bffb0a",
        "colab": {
          "base_uri": "https://localhost:8080/",
          "height": 34
        }
      },
      "source": [
        "float(Fraction(1, 2))"
      ],
      "execution_count": 9,
      "outputs": [
        {
          "output_type": "execute_result",
          "data": {
            "text/plain": [
              "0.5"
            ]
          },
          "metadata": {
            "tags": []
          },
          "execution_count": 9
        }
      ]
    },
    {
      "cell_type": "code",
      "metadata": {
        "id": "4YEPSLkApMPB",
        "colab_type": "code",
        "colab": {}
      },
      "source": [
        "class segment:\n",
        "    def __init__(self, begin, end):\n",
        "        self.begin = min(begin, end)\n",
        "        self.end = max(end, begin)\n",
        "    def __sub__(self, seg_b):\n",
        "        if(seg_b.begin >= self.end or seg_b.end <= self.begin):\n",
        "            return segment(self.begin, self.end)\n",
        "        elif (self.begin >= seg_b.begin and self.end <= seg_b.end):\n",
        "            return segment(0, 0)\n",
        "        else:\n",
        "            if seg_b.end <= self.end:\n",
        "                return segment(seg_b.end, self.end)\n",
        "            else:\n",
        "                return segment(self.begin, seg_b.begin)\n",
        "            return segment\n",
        "    def __add__(self, seg_b):\n",
        "        if(seg_b.begin >= self.end or seg_b.end <= self.begin):\n",
        "            return segment(self.begin, self.end)\n",
        "        else:\n",
        "            return segment(min(self.begin, seg_b.begin), max(self.end, seg_b.end))\n",
        "    def len(self):\n",
        "        return self.end - self.begin\n",
        "\n",
        "def intersect(seg_a, seg_b):\n",
        "    if(seg_b.begin >= seg_a.end or seg_b.end <= seg_a.begin):\n",
        "        return False\n",
        "    return True\n",
        "\n",
        "def visible_diag(map, player, direction, length = 100):\n",
        "    closed = []\n",
        "    res = np.zeros(map.shape, dtype=int)\n",
        "    res[player] = 1\n",
        "    for sight in range(1, length + 1):\n",
        "        for x in range(sight + 1):\n",
        "            check = (player[0] + x * direction[0], player[1] + (sight - x) * direction[1])\n",
        "            if check[0] >= len(map) or check[1] >= len(map[0]) or check[0] < 0 or check[1] < 0:\n",
        "                pass\n",
        "            else:\n",
        "                if len(closed) == 0:\n",
        "                    res[check] = 1\n",
        "                else:\n",
        "                    cur_seg = segment(Fraction(x, (sight + 1)), Fraction((x + 1), (sight + 1)))\n",
        "                    #print(float(cur_seg.len()))\n",
        "                    for i in closed:\n",
        "                        #if(check == (10, 10)):\n",
        "                            #print(cur_seg.begin, cur_seg.end)\n",
        "                        if intersect(cur_seg, i):\n",
        "                            cur_seg = cur_seg - i\n",
        "                        #if(check == (10, 10)):\n",
        "                            #print()\n",
        "                            #print(cur_seg.begin, cur_seg.end)\n",
        "                    if cur_seg.len() > 0:\n",
        "                        res[check] = 1\n",
        "                    else:\n",
        "                        res[check] = 0\n",
        "                if(map[check] == 1):\n",
        "                    #print(check)\n",
        "                    closed.append(segment(Fraction(x, (sight + 1)), Fraction((x + 1), (sight + 1))))\n",
        "    return res\n",
        "\n",
        "def visible(map, player, dir, length = 100):\n",
        "    dirs = [(-1, 0), (-1, 1), (0, 1), (1, 1), (1, 0), (1, -1), (0, -1), (-1, -1)]\n",
        "\n",
        "    direction = dirs[dir]\n",
        "    if direction[0] != 0 and direction[1] != 0:\n",
        "        return visible_diag(map, player, direction, length = 100)\n",
        "    elif direction[0] != 0:\n",
        "        res1 = visible_diag(map, player, (direction[0], 1), length = 100)\n",
        "        res2 = visible_diag(map, player, (direction[0], -1), length = 100)\n",
        "        res3 = np.zeros(map.shape, dtype=int)\n",
        "        \n",
        "        res3[player] = 1\n",
        "        for x in range(1, length + 1):\n",
        "            for y in range(x + 1):\n",
        "                check = (player[0] + x * direction[0], player[1] + y)\n",
        "                if check[0] >= len(map) or check[1] >= len(map[0]) or check[0] < 0 or check[1] < 0 or x + y > length:\n",
        "                    pass\n",
        "                else:\n",
        "                    res3[check] = 1\n",
        "                check = (player[0] + x * direction[0], player[1] - y)\n",
        "                if check[0] >= len(map) or check[1] >= len(map[0]) or check[0] < 0 or check[1] < 0 or x + y > length:\n",
        "                    pass\n",
        "                else:\n",
        "                    res3[check] = 1\n",
        "        return np.maximum(res1, res2) * res3\n",
        "    else:\n",
        "        res1 = visible_diag(map, player, (1, direction[1]), length = 100)\n",
        "        res2 = visible_diag(map, player, (-1, direction[1]), length = 100)\n",
        "        res3 = np.zeros(map.shape, dtype=int)\n",
        "        \n",
        "        res3[player] = 1\n",
        "        for x in range(1, length + 1):\n",
        "            for y in range(x + 1):\n",
        "                check = (player[0] + y, player[1] + x * direction[1])\n",
        "                if check[0] >= len(map) or check[1] >= len(map[0]) or check[0] < 0 or check[1] < 0 or x + y > length:\n",
        "                    pass\n",
        "                else:\n",
        "                    res3[check] = 1\n",
        "                check = (player[0] - y, player[1] + x * direction[1])\n",
        "                if check[0] >= len(map) or check[1] >= len(map[0]) or check[0] < 0 or check[1] < 0 or x + y > length:\n",
        "                    pass\n",
        "                else:\n",
        "                    res3[check] = 1\n",
        "        return np.maximum(res1, res2) * res3"
      ],
      "execution_count": 0,
      "outputs": []
    },
    {
      "cell_type": "code",
      "metadata": {
        "id": "SHUFmj7yaqd0",
        "colab_type": "code",
        "outputId": "f1fedc2e-e6ff-4078-e341-f7baec8e0a76",
        "colab": {
          "base_uri": "https://localhost:8080/",
          "height": 34
        }
      },
      "source": [
        "np.array([1, 2]) * np.array([2, 3])"
      ],
      "execution_count": 11,
      "outputs": [
        {
          "output_type": "execute_result",
          "data": {
            "text/plain": [
              "array([2, 6])"
            ]
          },
          "metadata": {
            "tags": []
          },
          "execution_count": 11
        }
      ]
    },
    {
      "cell_type": "code",
      "metadata": {
        "id": "CErE8HGS5z_C",
        "colab_type": "code",
        "outputId": "91d4c53d-c466-4b8e-cf71-beaa1640dea0",
        "colab": {
          "base_uri": "https://localhost:8080/",
          "height": 629
        }
      },
      "source": [
        "print(visible(map_1, (8, 8), 7))\n",
        "print(map_1)"
      ],
      "execution_count": 22,
      "outputs": [
        {
          "output_type": "stream",
          "text": [
            "[[0 1 1 1 1 1 1 1 1 0 0 0 0 0 0 0 0 0]\n",
            " [1 1 1 1 1 1 1 1 1 0 0 0 0 0 0 0 0 0]\n",
            " [1 1 1 1 1 1 1 1 1 0 0 0 0 0 0 0 0 0]\n",
            " [1 1 1 1 1 1 1 1 1 0 0 0 0 0 0 0 0 0]\n",
            " [1 1 1 1 1 1 1 1 1 0 0 0 0 0 0 0 0 0]\n",
            " [1 1 1 1 1 1 1 1 1 0 0 0 0 0 0 0 0 0]\n",
            " [1 1 1 1 1 1 1 1 1 0 0 0 0 0 0 0 0 0]\n",
            " [1 1 1 1 1 1 1 1 1 0 0 0 0 0 0 0 0 0]\n",
            " [1 1 1 1 1 1 1 1 1 0 0 0 0 0 0 0 0 0]\n",
            " [0 0 0 0 0 0 0 0 0 0 0 0 0 0 0 0 0 0]\n",
            " [0 0 0 0 0 0 0 0 0 0 0 0 0 0 0 0 0 0]\n",
            " [0 0 0 0 0 0 0 0 0 0 0 0 0 0 0 0 0 0]\n",
            " [0 0 0 0 0 0 0 0 0 0 0 0 0 0 0 0 0 0]\n",
            " [0 0 0 0 0 0 0 0 0 0 0 0 0 0 0 0 0 0]\n",
            " [0 0 0 0 0 0 0 0 0 0 0 0 0 0 0 0 0 0]\n",
            " [0 0 0 0 0 0 0 0 0 0 0 0 0 0 0 0 0 0]\n",
            " [0 0 0 0 0 0 0 0 0 0 0 0 0 0 0 0 0 0]\n",
            " [0 0 0 0 0 0 0 0 0 0 0 0 0 0 0 0 0 0]]\n",
            "[[1 1 1 1 1 1 1 1 1 1 1 1 1 1 1 1 1 1]\n",
            " [1 0 0 0 0 0 0 0 0 0 0 0 0 0 0 0 0 1]\n",
            " [1 0 0 0 0 0 0 0 0 0 0 0 0 0 0 0 0 1]\n",
            " [1 0 0 0 0 0 0 0 0 0 0 0 0 0 0 0 0 1]\n",
            " [1 0 0 0 0 0 0 0 0 0 0 0 0 0 0 0 0 1]\n",
            " [1 0 0 0 0 0 0 0 0 0 0 0 0 0 0 0 0 1]\n",
            " [1 0 0 0 0 0 0 0 0 0 0 0 0 0 0 0 0 1]\n",
            " [1 0 0 0 0 0 0 0 0 0 0 0 0 0 0 0 0 1]\n",
            " [1 0 0 0 0 0 0 0 0 0 0 0 0 0 0 0 0 1]\n",
            " [1 0 0 0 0 0 0 0 0 1 1 1 1 1 1 1 0 1]\n",
            " [1 0 0 0 0 0 0 0 0 1 0 0 0 0 0 0 0 1]\n",
            " [1 0 0 0 0 0 0 0 0 0 0 0 0 0 0 0 0 1]\n",
            " [1 0 0 0 0 0 0 0 0 1 0 0 0 0 0 0 0 1]\n",
            " [1 0 0 0 0 0 0 0 0 1 0 0 0 0 0 0 0 1]\n",
            " [1 0 0 0 0 0 0 0 0 1 0 0 0 0 0 0 0 1]\n",
            " [1 0 0 0 0 0 0 0 0 1 0 0 0 0 0 0 0 1]\n",
            " [1 0 0 0 0 0 0 0 0 1 0 0 0 0 0 0 0 1]\n",
            " [1 1 1 1 1 1 1 1 1 1 1 1 1 1 1 1 1 1]]\n"
          ],
          "name": "stdout"
        }
      ]
    },
    {
      "cell_type": "code",
      "metadata": {
        "id": "tijZnD-3cpzx",
        "colab_type": "code",
        "outputId": "d617c13a-dcc1-46fd-d335-ec3c90c11d42",
        "colab": {
          "base_uri": "https://localhost:8080/",
          "height": 34
        }
      },
      "source": [
        "len(map_1[0])"
      ],
      "execution_count": 0,
      "outputs": [
        {
          "output_type": "execute_result",
          "data": {
            "text/plain": [
              "18"
            ]
          },
          "metadata": {
            "tags": []
          },
          "execution_count": 78
        }
      ]
    },
    {
      "cell_type": "code",
      "metadata": {
        "id": "t55IksmScQHu",
        "colab_type": "code",
        "outputId": "40af93b0-e318-48ba-80c5-e12c93887059",
        "colab": {
          "base_uri": "https://localhost:8080/",
          "height": 34
        }
      },
      "source": [
        "(0, 1) > (1, 2)"
      ],
      "execution_count": 0,
      "outputs": [
        {
          "output_type": "execute_result",
          "data": {
            "text/plain": [
              "False"
            ]
          },
          "metadata": {
            "tags": []
          },
          "execution_count": 74
        }
      ]
    }
  ]
}