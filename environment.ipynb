{
 "cells": [
  {
   "cell_type": "code",
   "execution_count": 3,
   "metadata": {},
   "outputs": [],
   "source": [
    "import numpy as np\n",
    "import random\n",
    "from collections import defaultdict"
   ]
  },
  {
   "cell_type": "code",
   "execution_count": 2,
   "metadata": {},
   "outputs": [],
   "source": [
    "# map + \n",
    "# agents\n",
    "# boxes\n",
    "# step"
   ]
  },
  {
   "cell_type": "code",
   "execution_count": 153,
   "metadata": {},
   "outputs": [],
   "source": [
    "class env:\n",
    "    def __init__(self, \n",
    "                 map_version, \n",
    "                 map_size, \n",
    "                 step_limit = 240, \n",
    "                 preparation = 0.4,\n",
    "                 agents_number = [2, 2] , \n",
    "                 boxes_number = 4, \n",
    "                 debug = 0, \n",
    "                 use_seed = False, \n",
    "                 seed = 42):\n",
    "        \n",
    "        # self.seed = seed\n",
    "        # self.use_seed = use_seed\n",
    "        # if self.use_seed:\n",
    "        #     random.seed(self.seed)\n",
    "            \n",
    "\n",
    "        self.debug = debug\n",
    "        self.map_size = map_size\n",
    "        self.base_step_limit = step_limit\n",
    "        self.step_limit = self.base_step_limit\n",
    "        self.box_amount = boxes_number\n",
    "        self.seakers_amount = agents_number[0]\n",
    "        self.hiders_amount = agents_number[1]\n",
    "        \n",
    "        # self.valid_rotates = ['-90 deg', '-45 deg', 'pass', '+45 deg', '+90 deg']\n",
    "        self.valid_rotates = [-2, -1, 0, 1, 2]\n",
    "        \n",
    "        # self.valid_moves = ['forward', 'backward', 'pass']\n",
    "        self.valid_moves = [0, 1, 2]\n",
    "        \n",
    "        # self.valid_interactions = ['pass', 'lock', 'unlock']\n",
    "        self.valid_interactions = [0, 1, 2]\n",
    "        \n",
    "        self.move_map = {0:[-1,0], \n",
    "                         1:[1,0], \n",
    "                         2:[0,-1], \n",
    "                         3:[0,1], \n",
    "                         4:[0,0]}\n",
    "        \n",
    "        if map_version == 1:\n",
    "            self.create_empty_map_v1()\n",
    "        self.create_boxes()\n",
    "        self.initialize_agents()\n",
    "\n",
    "    def create_empty_map_v1_with_walls(self):\n",
    "        if isinstance(self.map_size, int):\n",
    "            if self.map_size >=6:\n",
    "                # create empty map with aaditional place for external walls\n",
    "                self.map = np.zeros((self.map_size+2, self.map_size+2), dtype=int)\n",
    "                # add external walls\n",
    "                self.map[0], self.map[-1] = 1, 1\n",
    "                for i in range(self.map_size+2):\n",
    "                    self.map[i][0], self.map[i][-1] = 1, 1\n",
    "\n",
    "                # add room, with side of half of the map size\n",
    "                self.room_size = self.map_size//2\n",
    "                self.map[-(self.room_size+1)][-(self.room_size+1):] = 1\n",
    "                for j in range(self.room_size):\n",
    "                    self.map[-(j+1)][-(self.room_size+1)]=1\n",
    "\n",
    "                # add doors in both walls of the room\n",
    "                self.map[-(self.room_size+1)][-2:-1] = 0\n",
    "                self.map[-(self.room_size-1)][-(self.room_size+1)] = 0\n",
    "                #return(map_obj)\n",
    "            elif self.map_size < 6 and self.map_size >= 0:\n",
    "                print('Error: map size is too small, correct size is 6+')\n",
    "        else:\n",
    "            print('Error: incorrect map size type: expected int')\n",
    "            \n",
    "    def create_empty_map_v1(self):\n",
    "        if isinstance(self.map_size, int):\n",
    "            if self.map_size >=6:\n",
    "                # create empty map with\n",
    "                self.map = np.zeros((self.map_size, self.map_size), dtype=int)\n",
    "\n",
    "                # add room, with side of half of the map size\n",
    "                self.room_size = self.map_size//2\n",
    "                self.map[-(self.room_size+1)][-(self.room_size+1):] = 1\n",
    "                for j in range(self.room_size):\n",
    "                    self.map[-(j+1)][-(self.room_size+1)]=1\n",
    "\n",
    "                # add doors in both walls of the room\n",
    "                rand_1 = random.randint(-(new_env.room_size), -1)\n",
    "                rand_2 = random.randint(-(new_env.room_size), -1)\n",
    "                self.map[-(self.room_size+1)][rand_1] = 0\n",
    "                self.map[rand_2][-(self.room_size+1)] = 0\n",
    "                #return(map_obj)\n",
    "            elif self.map_size < 6 and self.map_size >= 0:\n",
    "                print('Error: map size is too small, correct size is 6+')\n",
    "        else:\n",
    "            print('Error: incorrect map size type: expected int')\n",
    "            \n",
    "    def create_boxes(self):\n",
    "        self.boxes = defaultdict()\n",
    "        for i in range(self.box_amount):\n",
    "            \n",
    "            filt = (self.map == 0)\n",
    "            \n",
    "            for j in self.boxes.keys():\n",
    "                coords = self.boxes[j]['coords']\n",
    "                filt[coords[0], coords[1]] = 0\n",
    "                \n",
    "            filt = np.array(filt, dtype = 'int')\n",
    "            rnd_p = random.choice(np.argwhere(filt))\n",
    "            self.boxes[i] = defaultdict()\n",
    "            self.boxes[i]['coords'] = list(rnd_p)\n",
    "            self.boxes[i]['locked'] = False\n",
    "            self.boxes[i]['locked_team'] = None\n",
    "            \n",
    "    def initialize_agents(self):\n",
    "        self.agents = defaultdict()\n",
    "        self.agents['seekers'] = defaultdict()\n",
    "        self.agents['hiders'] = defaultdict()\n",
    "        \n",
    "        for s in range(self.seakers_amount):\n",
    "            filt = (self.map == 0)\n",
    "            for i in self.boxes.keys():\n",
    "                coords = self.boxes[i]['coords']\n",
    "                filt[coords[0], coords[1]] = 0\n",
    "            filt = np.array(filt, dtype = 'int')\n",
    "            \n",
    "            for agent_id in self.agents['seekers'].keys():\n",
    "                ag_coords = self.agents['seekers'][agent_id]['coords']\n",
    "                filt[ag_coords[0], ag_coords[1]] = 0\n",
    "            \n",
    "            new_agent_coords = rnd_p = random.choice(np.argwhere(filt))\n",
    "            new_agent = defaultdict()\n",
    "            new_agent['coords'] = new_agent_coords\n",
    "            new_agent['sight'] = random.randint(0, 8)\n",
    "            self.agents['seekers'][s] = new_agent\n",
    "            \n",
    "        for h in range(self.seakers_amount):\n",
    "            filt = (self.map == 0)\n",
    "            for i in self.boxes.keys():\n",
    "                coords = self.boxes[i]['coords']\n",
    "                filt[coords[0], coords[1]] = 0\n",
    "            filt = np.array(filt, dtype = 'int')\n",
    "            \n",
    "            for agent_id in self.agents['seekers'].keys():\n",
    "                ag_coords = self.agents['seekers'][agent_id]['coords']\n",
    "                filt[ag_coords[0], ag_coords[1]] = 0\n",
    "                \n",
    "            for agent_id in self.agents['hiders'].keys():\n",
    "                ag_coords = self.agents['hiders'][agent_id]['coords']\n",
    "                filt[ag_coords[0], ag_coords[1]] = 0\n",
    "                \n",
    "            new_agent_coords = rnd_p = random.choice(np.argwhere(filt))\n",
    "            new_agent = defaultdict()\n",
    "            new_agent['coords'] = new_agent_coords\n",
    "            new_agent['sight'] = random.randint(0, 8)\n",
    "            self.agents['hiders'][h] = new_agent\n",
    "                \n",
    "    def move(self, agent_numb, move_code):\n",
    "        \n",
    "        if self.step_limit == 0:\n",
    "            if self.debug:\n",
    "                print('step limit reached, error')\n",
    "        else:\n",
    "            self.step_limit -= 1\n",
    "            if self.debug:\n",
    "                print(self.step_limit, 'steps left')\n",
    "                \n",
    "        if move_code not in self.valid_moves:\n",
    "            if self.debug:\n",
    "                print('icorrect move')\n",
    "        else:\n",
    "            agent_old_coords = self.agents_coords[agent_numb]\n",
    "            move = self.move_map[move_code]\n",
    "            agent_new_coords = l3 = [l+r for l,r in zip(agent_old_coords, move)]\n",
    "            correct_move = True\n",
    "            for coord in agent_new_coords:\n",
    "                if (coord < 0) or (coord >= self.size):\n",
    "                    if self.debug:\n",
    "                        print('icorrect move')\n",
    "                    correct_move = False\n",
    "            other_coords = self.agents_coords[1-agent_numb]\n",
    "            if agent_new_coords == other_coords:\n",
    "                if self.debug:\n",
    "                    print('icorrect move')\n",
    "                correct_move = False\n",
    "            if correct_move:\n",
    "                self.map[agent_old_coords[0],agent_old_coords[1]] = 0\n",
    "                self.map[agent_new_coords[0],agent_new_coords[1]] = -1 - agent_numb\n",
    "                self.agents_coords[agent_numb] = agent_new_coords\n",
    "                for res in range(self.number_of_resources):\n",
    "                    if self.resources[res][agent_new_coords[0],agent_new_coords[1]] != 0:\n",
    "                        self.agents_res_collected[agent_numb].append(res)\n",
    "                        self.resources[res][agent_new_coords[0],agent_new_coords[1]] = 0\n",
    "                        if res == self.agents_goals[agent_numb]:\n",
    "                            self.agents_self_goal_collected[agent_numb]+=1\n",
    "                            if self.debug:\n",
    "                                print('collected self goal resource:', res)\n",
    "                        elif res == self.agents_goals[1 - agent_numb]:\n",
    "                            self.agents_othr_goal_collected[agent_numb]+=1\n",
    "                            if self.debug:\n",
    "                                print('collected other goal resource:', res)\n",
    "                        else:\n",
    "                            self.agents_nthr_goal_collected[agent_numb]+=1\n",
    "                            if self.debug:\n",
    "                                print('collected neither goal resource:', res)\n",
    "                            \n",
    "    # def observation(self, agent_numb, with_map = 0):\n",
    "        \n",
    "    \n",
    "    def reward(self):\n",
    "        # we need to define a reward\n",
    "        reward = 0\n",
    "        \n",
    "        return reward\n",
    "\n",
    "    def reset(self):\n",
    "        \n",
    "        if self.use_seed:\n",
    "            random.seed(self.seed)\n",
    "            \n",
    "        self.step_limit = self.base_step_limit\n",
    "        self.initialize_map()"
   ]
  },
  {
   "cell_type": "code",
   "execution_count": 175,
   "metadata": {},
   "outputs": [
    {
     "name": "stdout",
     "output_type": "stream",
     "text": [
      "[[0 0 0 0 0 0 0 0 0 0 0 0 0 0 0 0 0 0 0 0 0 0 0 0 0 0 0 0 0 0]\n",
      " [0 0 0 0 0 0 0 0 0 0 0 0 0 0 0 0 0 0 0 0 0 0 0 0 0 0 0 0 0 0]\n",
      " [0 0 0 0 0 0 0 0 0 0 0 0 0 0 0 0 0 0 0 0 0 0 0 0 0 0 0 0 0 0]\n",
      " [0 0 0 0 0 0 0 0 0 0 0 0 0 0 0 0 0 0 0 0 0 0 0 0 0 0 0 0 0 0]\n",
      " [0 0 0 0 0 0 0 0 0 0 0 0 0 0 0 0 0 0 0 0 0 0 0 0 0 0 0 0 0 0]\n",
      " [0 0 0 0 0 0 0 0 0 0 0 0 0 0 0 0 0 0 0 0 0 0 0 0 0 0 0 0 0 0]\n",
      " [0 0 0 0 0 0 0 0 0 0 0 0 0 0 0 0 0 0 0 0 0 0 0 0 0 0 0 0 0 0]\n",
      " [0 0 0 0 0 0 0 0 0 0 0 0 0 0 0 0 0 0 0 0 0 0 0 0 0 0 0 0 0 0]\n",
      " [0 0 0 0 0 0 0 0 0 0 0 0 0 0 0 0 0 0 0 0 0 0 0 0 0 0 0 0 0 0]\n",
      " [0 0 0 0 0 0 0 0 0 0 0 0 0 0 0 0 0 0 0 0 0 0 0 0 0 0 0 0 0 0]\n",
      " [0 0 0 0 0 0 0 0 0 0 0 0 0 0 0 0 0 0 0 0 0 0 0 0 0 0 0 0 0 0]\n",
      " [0 0 0 0 0 0 0 0 0 0 0 0 0 0 0 0 0 0 0 0 0 0 0 0 0 0 0 0 0 0]\n",
      " [0 0 0 0 0 0 0 0 0 0 0 0 0 0 0 0 0 0 0 0 0 0 0 0 0 0 0 0 0 0]\n",
      " [0 0 0 0 0 0 0 0 0 0 0 0 0 0 0 0 0 0 0 0 0 0 0 0 0 0 0 0 0 0]\n",
      " [0 0 0 0 0 0 0 0 0 0 0 0 0 0 1 1 1 1 1 1 1 1 1 1 1 1 1 1 1 0]\n",
      " [0 0 0 0 0 0 0 0 0 0 0 0 0 0 1 0 0 0 0 0 0 0 0 0 0 0 0 0 0 0]\n",
      " [0 0 0 0 0 0 0 0 0 0 0 0 0 0 1 0 0 0 0 0 0 0 0 0 0 0 0 0 0 0]\n",
      " [0 0 0 0 0 0 0 0 0 0 0 0 0 0 1 0 0 0 0 0 0 0 0 0 0 0 0 0 0 0]\n",
      " [0 0 0 0 0 0 0 0 0 0 0 0 0 0 1 0 0 0 0 0 0 0 0 0 0 0 0 0 0 0]\n",
      " [0 0 0 0 0 0 0 0 0 0 0 0 0 0 1 0 0 0 0 0 0 0 0 0 0 0 0 0 0 0]\n",
      " [0 0 0 0 0 0 0 0 0 0 0 0 0 0 1 0 0 0 0 0 0 0 0 0 0 0 0 0 0 0]\n",
      " [0 0 0 0 0 0 0 0 0 0 0 0 0 0 1 0 0 0 0 0 0 0 0 0 0 0 0 0 0 0]\n",
      " [0 0 0 0 0 0 0 0 0 0 0 0 0 0 1 0 0 0 0 0 0 0 0 0 0 0 0 0 0 0]\n",
      " [0 0 0 0 0 0 0 0 0 0 0 0 0 0 1 0 0 0 0 0 0 0 0 0 0 0 0 0 0 0]\n",
      " [0 0 0 0 0 0 0 0 0 0 0 0 0 0 1 0 0 0 0 0 0 0 0 0 0 0 0 0 0 0]\n",
      " [0 0 0 0 0 0 0 0 0 0 0 0 0 0 1 0 0 0 0 0 0 0 0 0 0 0 0 0 0 0]\n",
      " [0 0 0 0 0 0 0 0 0 0 0 0 0 0 1 0 0 0 0 0 0 0 0 0 0 0 0 0 0 0]\n",
      " [0 0 0 0 0 0 0 0 0 0 0 0 0 0 1 0 0 0 0 0 0 0 0 0 0 0 0 0 0 0]\n",
      " [0 0 0 0 0 0 0 0 0 0 0 0 0 0 0 0 0 0 0 0 0 0 0 0 0 0 0 0 0 0]\n",
      " [0 0 0 0 0 0 0 0 0 0 0 0 0 0 1 0 0 0 0 0 0 0 0 0 0 0 0 0 0 0]]\n"
     ]
    }
   ],
   "source": [
    "# map_version, map_size, step_limit\n",
    "new_env = env(1, 30)\n",
    "print(new_env.map)"
   ]
  },
  {
   "cell_type": "code",
   "execution_count": 145,
   "metadata": {},
   "outputs": [
    {
     "data": {
      "text/plain": [
       "-4"
      ]
     },
     "execution_count": 145,
     "metadata": {},
     "output_type": "execute_result"
    }
   ],
   "source": [
    "random.randint(-10, -1)"
   ]
  },
  {
   "cell_type": "code",
   "execution_count": 146,
   "metadata": {},
   "outputs": [
    {
     "name": "stdout",
     "output_type": "stream",
     "text": [
      "[[0 0 0 0 0 0 0 0 0 0 0 0 0 0 0 0 0 0 0 0]\n",
      " [0 0 0 0 0 0 0 0 0 0 0 0 0 0 0 0 0 0 0 0]\n",
      " [0 0 0 0 0 0 0 0 0 0 0 0 0 0 0 0 0 0 0 0]\n",
      " [0 0 0 0 0 0 0 0 0 0 0 0 0 0 0 0 0 0 0 0]\n",
      " [0 0 0 0 0 0 0 0 0 0 0 0 0 0 0 0 0 0 0 0]\n",
      " [0 0 0 0 0 0 0 0 0 0 0 0 0 0 0 0 0 0 0 0]\n",
      " [0 0 0 0 0 0 0 0 0 0 0 0 0 0 0 0 0 0 0 0]\n",
      " [0 0 0 0 0 0 0 0 0 0 0 0 0 0 0 0 0 0 0 0]\n",
      " [0 0 0 0 0 0 0 0 0 0 0 0 0 0 0 0 0 0 0 0]\n",
      " [0 0 0 0 0 0 0 0 0 1 1 1 1 1 0 1 1 1 1 1]\n",
      " [0 0 0 0 0 0 0 0 0 1 0 0 0 0 0 0 0 0 0 0]\n",
      " [0 0 0 0 0 0 0 0 0 1 0 0 0 0 0 0 0 0 0 0]\n",
      " [0 0 0 0 0 0 0 0 0 1 0 0 0 0 0 0 0 0 0 0]\n",
      " [0 0 0 0 0 0 0 0 0 1 0 0 0 0 0 0 0 0 0 0]\n",
      " [0 0 0 0 0 0 0 0 0 1 0 0 0 0 0 0 0 0 0 0]\n",
      " [0 0 0 0 0 0 0 0 0 1 0 0 0 0 0 0 0 0 0 0]\n",
      " [0 0 0 0 0 0 0 0 0 1 0 0 0 0 0 0 0 0 0 0]\n",
      " [0 0 0 0 0 0 0 0 0 0 0 0 0 0 0 0 0 0 0 0]\n",
      " [0 0 0 0 0 0 0 0 0 1 0 0 0 0 0 0 0 0 0 0]\n",
      " [0 0 0 0 0 0 0 0 0 1 0 0 0 0 0 0 0 0 0 0]]\n"
     ]
    }
   ],
   "source": []
  },
  {
   "cell_type": "code",
   "execution_count": 109,
   "metadata": {},
   "outputs": [
    {
     "name": "stdout",
     "output_type": "stream",
     "text": [
      "defaultdict(None, {'coords': [13, 4], 'locked': False, 'locked_team': None})\n"
     ]
    }
   ],
   "source": [
    "print(new_env.boxes[1])"
   ]
  },
  {
   "cell_type": "code",
   "execution_count": 110,
   "metadata": {},
   "outputs": [
    {
     "data": {
      "text/plain": [
       "defaultdict(None,\n",
       "            {'seekers': defaultdict(None,\n",
       "                         {0: defaultdict(None,\n",
       "                                      {'coords': array([ 5, 11], dtype=int64),\n",
       "                                       'sight': 2}),\n",
       "                          1: defaultdict(None,\n",
       "                                      {'coords': array([8, 9], dtype=int64),\n",
       "                                       'sight': 1})}),\n",
       "             'hiders': defaultdict(None,\n",
       "                         {0: defaultdict(None,\n",
       "                                      {'coords': array([13,  5], dtype=int64),\n",
       "                                       'sight': 3}),\n",
       "                          1: defaultdict(None,\n",
       "                                      {'coords': array([18,  5], dtype=int64),\n",
       "                                       'sight': 1})})})"
      ]
     },
     "execution_count": 110,
     "metadata": {},
     "output_type": "execute_result"
    }
   ],
   "source": [
    "new_env.agents"
   ]
  },
  {
   "cell_type": "code",
   "execution_count": 112,
   "metadata": {},
   "outputs": [
    {
     "data": {
      "text/plain": [
       "10"
      ]
     },
     "execution_count": 112,
     "metadata": {},
     "output_type": "execute_result"
    }
   ],
   "source": [
    "new_env.room_size"
   ]
  },
  {
   "cell_type": "code",
   "execution_count": 142,
   "metadata": {},
   "outputs": [
    {
     "data": {
      "text/plain": [
       "1"
      ]
     },
     "execution_count": 142,
     "metadata": {},
     "output_type": "execute_result"
    }
   ],
   "source": [
    "new_rand = random.randint(-(new_env.room_size), -1)\n",
    "new_env.map[-(new_env.room_size + 1),new_rand]"
   ]
  },
  {
   "cell_type": "code",
   "execution_count": 141,
   "metadata": {},
   "outputs": [
    {
     "data": {
      "text/plain": [
       "array([0, 0, 0, 0, 0, 0, 0, 0, 0, 1, 0, 0, 0, 0, 0, 0, 0, 0, 0, 0])"
      ]
     },
     "execution_count": 141,
     "metadata": {},
     "output_type": "execute_result"
    }
   ],
   "source": [
    "new_env.map[-(new_env.room_size)]"
   ]
  },
  {
   "cell_type": "code",
   "execution_count": 3,
   "metadata": {},
   "outputs": [],
   "source": [
    "buffer_ag_1 = []\n",
    "buffer_ag_2 = []\n",
    "\n",
    "def sample_from_buffer(buffer, batch_size=1):\n",
    "    batch = random.sample(buffer,batch_size)\n",
    "    inputs = [i[0] for i in batch]\n",
    "    actions = [i[1] for i in batch]\n",
    "    revards = [i[2] for i in batch]\n",
    "    \n",
    "    inputs = torch.FloatTensor(inputs)\n",
    "    actions = torch.FloatTensor(actions)\n",
    "    revards = torch.FloatTensor(revards)\n",
    "    \n",
    "    return inputs, actions, revards"
   ]
  },
  {
   "cell_type": "code",
   "execution_count": 10,
   "metadata": {},
   "outputs": [
    {
     "name": "stdout",
     "output_type": "stream",
     "text": [
      "[[0 0 0 0 0 0 0 0 0 0 0 0 0 0 0 0 0 0 0 0]\n",
      " [0 0 0 0 0 0 0 0 0 0 0 0 0 0 0 0 0 0 0 0]\n",
      " [0 0 0 0 0 0 0 0 0 0 0 0 0 0 0 0 0 0 0 0]\n",
      " [0 0 0 0 0 0 0 0 0 0 0 0 0 0 0 0 0 0 0 0]\n",
      " [0 0 0 0 0 0 0 0 0 0 0 0 0 0 0 0 0 0 0 0]\n",
      " [0 0 0 0 0 0 0 0 0 0 0 0 0 0 0 0 0 0 0 0]\n",
      " [0 0 0 0 0 0 0 0 0 0 0 0 0 0 0 0 0 0 0 0]\n",
      " [0 0 0 0 0 0 0 0 0 0 0 0 0 0 0 0 0 0 0 0]\n",
      " [0 0 0 0 0 0 0 0 0 0 0 0 0 0 0 0 0 0 0 0]\n",
      " [0 0 0 0 0 0 0 0 0 1 1 1 1 1 1 1 1 1 0 1]\n",
      " [0 0 0 0 0 0 0 0 0 1 0 0 0 0 0 0 0 0 0 0]\n",
      " [0 0 0 0 0 0 0 0 0 0 0 0 0 0 0 0 0 0 0 0]\n",
      " [0 0 0 0 0 0 0 0 0 1 0 0 0 0 0 0 0 0 0 0]\n",
      " [0 0 0 0 0 0 0 0 0 1 0 0 0 0 0 0 0 0 0 0]\n",
      " [0 0 0 0 0 0 0 0 0 1 0 0 0 0 0 0 0 0 0 0]\n",
      " [0 0 0 0 0 0 0 0 0 1 0 0 0 0 0 0 0 0 0 0]\n",
      " [0 0 0 0 0 0 0 0 0 1 0 0 0 0 0 0 0 0 0 0]\n",
      " [0 0 0 0 0 0 0 0 0 1 0 0 0 0 0 0 0 0 0 0]\n",
      " [0 0 0 0 0 0 0 0 0 1 0 0 0 0 0 0 0 0 0 0]\n",
      " [0 0 0 0 0 0 0 0 0 1 0 0 0 0 0 0 0 0 0 0]]\n"
     ]
    }
   ],
   "source": [
    "map_map = new_env.map\n",
    "print(map_map)"
   ]
  },
  {
   "cell_type": "code",
   "execution_count": 13,
   "metadata": {},
   "outputs": [
    {
     "name": "stdout",
     "output_type": "stream",
     "text": [
      "[[0 0 0 0 0 0 0 0 0 0 0 0 0 0 0 0 0 0 0 0]\n",
      " [0 0 0 0 0 0 0 0 0 0 0 0 0 0 0 0 0 0 0 0]\n",
      " [0 0 1 0 0 0 0 0 0 0 0 0 0 0 0 0 0 0 0 0]\n",
      " [0 0 0 0 0 0 0 0 0 0 0 0 0 0 0 0 0 0 0 0]\n",
      " [0 0 0 0 0 0 0 0 0 0 0 0 0 0 0 0 0 0 0 0]\n",
      " [0 0 0 0 0 0 0 0 0 0 0 0 0 0 0 0 0 0 0 0]\n",
      " [0 0 0 0 0 0 0 0 0 0 0 0 0 0 0 0 0 0 0 0]\n",
      " [0 0 0 0 0 0 0 0 0 0 0 0 0 0 0 0 0 0 0 0]\n",
      " [0 0 0 0 0 0 0 0 0 0 0 0 0 0 0 0 0 0 0 0]\n",
      " [0 0 0 0 0 0 0 0 0 0 0 0 0 0 0 0 0 0 0 0]\n",
      " [0 0 0 0 0 0 0 0 0 0 0 0 0 0 0 0 0 0 0 0]\n",
      " [0 0 0 0 0 0 0 0 0 0 0 0 0 0 0 0 0 0 0 0]\n",
      " [0 0 0 0 0 0 0 0 0 0 0 0 0 0 0 0 0 0 0 0]\n",
      " [0 0 0 0 0 0 0 0 0 0 0 0 0 0 0 0 0 0 0 0]\n",
      " [0 0 0 0 0 0 0 0 0 0 0 0 0 0 0 0 0 0 0 0]\n",
      " [0 0 0 0 0 0 0 0 0 0 0 0 0 0 0 0 0 0 0 0]\n",
      " [0 0 0 0 0 0 0 0 0 0 0 0 0 0 0 0 0 0 0 0]\n",
      " [0 0 0 0 0 0 0 0 0 0 0 0 0 0 0 0 0 0 0 0]\n",
      " [0 0 0 0 0 0 0 0 0 0 0 0 0 0 0 0 0 0 0 0]\n",
      " [0 0 0 0 0 0 0 0 0 0 0 0 0 0 0 0 0 0 0 0]]\n"
     ]
    }
   ],
   "source": [
    "box_map = np.zeros((20, 20), dtype=int)\n",
    "box_map[2,2] = 1\n",
    "print(box_map)"
   ]
  },
  {
   "cell_type": "code",
   "execution_count": 29,
   "metadata": {},
   "outputs": [
    {
     "data": {
      "text/plain": [
       "14"
      ]
     },
     "execution_count": 29,
     "metadata": {},
     "output_type": "execute_result"
    }
   ],
   "source": [
    "29//2"
   ]
  },
  {
   "cell_type": "code",
   "execution_count": null,
   "metadata": {},
   "outputs": [],
   "source": []
  }
 ],
 "metadata": {
  "kernelspec": {
   "display_name": "Python 3",
   "language": "python",
   "name": "python3"
  },
  "language_info": {
   "codemirror_mode": {
    "name": "ipython",
    "version": 3
   },
   "file_extension": ".py",
   "mimetype": "text/x-python",
   "name": "python",
   "nbconvert_exporter": "python",
   "pygments_lexer": "ipython3",
   "version": "3.7.3"
  }
 },
 "nbformat": 4,
 "nbformat_minor": 2
}
