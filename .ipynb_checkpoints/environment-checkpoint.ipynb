{
 "cells": [
  {
   "cell_type": "code",
   "execution_count": 5,
   "metadata": {
    "colab": {},
    "colab_type": "code",
    "id": "Vg_UlGMgl46Q"
   },
   "outputs": [],
   "source": [
    "import numpy as np\n",
    "import random\n",
    "from collections import defaultdict\n",
    "from fractions import Fraction"
   ]
  },
  {
   "cell_type": "code",
   "execution_count": 6,
   "metadata": {
    "colab": {},
    "colab_type": "code",
    "id": "fTtR6mxDl46U"
   },
   "outputs": [],
   "source": [
    "# map + \n",
    "# agents\n",
    "# boxes\n",
    "# step"
   ]
  },
  {
   "cell_type": "code",
   "execution_count": 7,
   "metadata": {
    "colab": {},
    "colab_type": "code",
    "id": "e4MpTTe_ZwpQ"
   },
   "outputs": [],
   "source": [
    "class segment:\n",
    "    #class for 1-d segment \n",
    "    def __init__(self, begin, end):\n",
    "        self.begin = min(begin, end)\n",
    "        self.end = max(end, begin)\n",
    "    def __sub__(self, seg_b):\n",
    "        if(seg_b.begin >= self.end or seg_b.end <= self.begin):\n",
    "            return segment(self.begin, self.end)\n",
    "        elif (self.begin >= seg_b.begin and self.end <= seg_b.end):\n",
    "            return segment(0, 0)\n",
    "        else:\n",
    "            if seg_b.end <= self.end:\n",
    "                return segment(seg_b.end, self.end)\n",
    "            else:\n",
    "                return segment(self.begin, seg_b.begin)\n",
    "            return segment\n",
    "    def __add__(self, seg_b):\n",
    "        if(seg_b.begin >= self.end or seg_b.end <= self.begin):\n",
    "            return segment(self.begin, self.end)\n",
    "        else:\n",
    "            return segment(min(self.begin, seg_b.begin), max(self.end, seg_b.end))\n",
    "    def len(self):\n",
    "        return self.end - self.begin\n",
    "\n",
    "def intersect(seg_a, seg_b):\n",
    "    #Returns True if two segments intersect and False otherwise\n",
    "    #seg_a = segment\n",
    "    #seg_b = segment\n",
    "    if(seg_b.begin >= seg_a.end or seg_b.end <= seg_a.begin):\n",
    "        return False\n",
    "    return True\n",
    "\n",
    "def diagonal_vision(map_array, player_coordinates, direction_array, length = 100):\n",
    "    #Returns vision mask with same shape as map_array, where 1 stands if the cell is at least partly visible and 0 otherwise\n",
    "    #This function is for diagonal directions only\n",
    "    #map_array = np.array(n, n)\n",
    "    #player_coordinates = (x, y) - tuple\n",
    "    #direction_array = [x, y]\n",
    "    obstacles = []\n",
    "    vision_mask = np.zeros(map_array.shape, dtype=int)\n",
    "    vision_mask[player_coordinates] = 1\n",
    "    for sight in range(1, length + 1):\n",
    "        for x in range(sight + 1):\n",
    "            coordinates = (player_coordinates[0] + x * direction_array[0], player_coordinates[1] + (sight - x) * direction_array[1])\n",
    "            if coordinates[0] >= len(map_array) or coordinates[1] >= len(map_array[0]) or coordinates[0] < 0 or coordinates[1] < 0:\n",
    "                pass\n",
    "            else:\n",
    "                if len(obstacles) == 0:\n",
    "                    vision_mask[coordinates] = 1\n",
    "                else:\n",
    "                    cur_seg = segment(Fraction(x, (sight + 1)), Fraction((x + 1), (sight + 1)))\n",
    "                    for i in obstacles:\n",
    "                        if intersect(cur_seg, i):\n",
    "                            cur_seg = cur_seg - i\n",
    "                    if cur_seg.len() > 0:\n",
    "                        vision_mask[coordinates] = 1\n",
    "                    else:\n",
    "                        vision_mask[coordinates] = 0\n",
    "                if(map_array[coordinates] != 0):\n",
    "                    obstacles.append(segment(Fraction(x, (sight + 1)), Fraction((x + 1), (sight + 1))))\n",
    "    return vision_mask\n",
    "\n",
    "def vision(map_array, player_coordinates, direction_number, length = 100):\n",
    "    #Returns vision mask with same shape as map_array, where 1 stands if the cell is at least partly visible and 0 otherwise\n",
    "    #This function is for all directions\n",
    "    #map_array = np.array(n, n)\n",
    "    #player_coordinates = (x, y)\n",
    "    #direction_number = number from 0 to 7\n",
    "    direction_arrays = [(-1, 0), (-1, 1), (0, 1), (1, 1), (1, 0), (1, -1), (0, -1), (-1, -1)]\n",
    "\n",
    "    direction_array = direction_arrays[direction_number]\n",
    "    if direction_array[0] != 0 and direction_array[1] != 0:\n",
    "        return diagonal_vision(map_array, player_coordinates, direction_array, length = 100)\n",
    "    elif direction_array[0] != 0:\n",
    "        diagonal_vision_mask1 = diagonal_vision(map_array, player_coordinates, (direction_array[0], 1), length = 100)\n",
    "        diagonal_vision_mask2 = diagonal_vision(map_array, player_coordinates, (direction_array[0], -1), length = 100)\n",
    "        linear_vision_mask = np.zeros(map_array.shape, dtype=int)\n",
    "        \n",
    "        linear_vision_mask[player_coordinates] = 1\n",
    "        for x in range(1, length + 1):\n",
    "            for y in range(x + 1):\n",
    "                coordinates = (player_coordinates[0] + x * direction_array[0], player_coordinates[1] + y)\n",
    "                if coordinates[0] >= len(map_array) or coordinates[1] >= len(map_array[0]) or coordinates[0] < 0 or coordinates[1] < 0 or x + y > length:\n",
    "                    pass\n",
    "                else:\n",
    "                    linear_vision_mask[coordinates] = 1\n",
    "                coordinates = (player_coordinates[0] + x * direction_array[0], player_coordinates[1] - y)\n",
    "                if coordinates[0] >= len(map_array) or coordinates[1] >= len(map_array[0]) or coordinates[0] < 0 or coordinates[1] < 0 or x + y > length:\n",
    "                    pass\n",
    "                else:\n",
    "                    linear_vision_mask[coordinates] = 1\n",
    "        return np.maximum(diagonal_vision_mask1, diagonal_vision_mask2) * linear_vision_mask\n",
    "    else:\n",
    "        diagonal_vision_mask1 = diagonal_vision(map_array, player_coordinates, (1, direction_array[1]), length = 100)\n",
    "        diagonal_vision_mask2 = diagonal_vision(map_array, player_coordinates, (-1, direction_array[1]), length = 100)\n",
    "        linear_vision_mask = np.zeros(map_array.shape, dtype=int)\n",
    "        \n",
    "        linear_vision_mask[player_coordinates] = 1\n",
    "        for x in range(1, length + 1):\n",
    "            for y in range(x + 1):\n",
    "                coordinates = (player_coordinates[0] + y, player_coordinates[1] + x * direction_array[1])\n",
    "                if coordinates[0] >= len(map_array) or coordinates[1] >= len(map_array[0]) or coordinates[0] < 0 or coordinates[1] < 0 or x + y > length:\n",
    "                    pass\n",
    "                else:\n",
    "                    linear_vision_mask[coordinates] = 1\n",
    "                coordinates = (player_coordinates[0] - y, player_coordinates[1] + x * direction_array[1])\n",
    "                if coordinates[0] >= len(map_array) or coordinates[1] >= len(map_array[0]) or coordinates[0] < 0 or coordinates[1] < 0 or x + y > length:\n",
    "                    pass\n",
    "                else:\n",
    "                    linear_vision_mask[coordinates] = 1\n",
    "        return np.maximum(diagonal_vision_mask1, diagonal_vision_mask2) * linear_vision_mask"
   ]
  },
  {
   "cell_type": "code",
   "execution_count": 41,
   "metadata": {
    "colab": {},
    "colab_type": "code",
    "id": "lTbSGpG0l46X"
   },
   "outputs": [],
   "source": [
    "class env:\n",
    "    def __init__(self, \n",
    "                 map_version, \n",
    "                 map_size, \n",
    "                 step_limit = 240, \n",
    "                 preparation = 0.4,\n",
    "                 agents_number = [2, 2] , \n",
    "                 boxes_number = 4, \n",
    "                 debug = 0, \n",
    "                 use_seed = False, \n",
    "                 seed = 42):\n",
    "        \n",
    "        # self.seed = seed\n",
    "        # self.use_seed = use_seed\n",
    "        # if self.use_seed:\n",
    "        #     random.seed(self.seed)\n",
    "            \n",
    "        self.debug = debug\n",
    "        self.map_size = map_size\n",
    "        self.base_step_limit = step_limit\n",
    "        self.step_limit = self.base_step_limit\n",
    "        self.box_amount = boxes_number\n",
    "        self.seakers_amount = agents_number[0]\n",
    "        self.hiders_amount = agents_number[1]\n",
    "        self.team_mask = {0: 'seekers', 1:'hiders'}\n",
    "        \n",
    "        # self.valid_rotations = ['-90 deg', '-45 deg', 'pass', '+45 deg', '+90 deg']\n",
    "        self.valid_rotations = [-2, -1, 0, 1, 2]\n",
    "        self.sights = [0,1,2,3,4,5,6,7]\n",
    "        \n",
    "        # self.valid_moves = ['backward', 'pass', 'forward']\n",
    "        self.valid_moves = [-1, 0, 1]\n",
    "        # self.grabull ['pass', 'pull/push']\n",
    "        self.valid_handle = [0, 1]\n",
    "        # self.box_interactions = ['pass', 'lock', 'unlock']\n",
    "        self.box_interactions = [0, 1, 2]\n",
    "        \n",
    "        self.move_map = {0:[-1,0], \n",
    "                         1:[-1,1], \n",
    "                         2:[0,1], \n",
    "                         3:[1,1],\n",
    "                         4:[1,0],\n",
    "                         5:[1,-1],\n",
    "                         6:[0,-1],\n",
    "                         7:[-1,-1]}\n",
    "        \n",
    "        if map_version == 1:\n",
    "            self.create_empty_map_v1()\n",
    "        self.create_boxes()\n",
    "        self.initialize_agents()\n",
    "\n",
    "    def create_empty_map_v1_with_walls(self):\n",
    "        if isinstance(self.map_size, int):\n",
    "            if self.map_size >=6:\n",
    "                # create empty map with aaditional place for external walls\n",
    "                self.map = np.zeros((self.map_size+2, self.map_size+2), dtype=int)\n",
    "                # add external walls\n",
    "                self.map[0], self.map[-1] = 1, 1\n",
    "                for i in range(self.map_size+2):\n",
    "                    self.map[i][0], self.map[i][-1] = 1, 1\n",
    "\n",
    "                # add room, with side of half of the map size\n",
    "                self.room_size = self.map_size//2\n",
    "                self.map[-(self.room_size+1)][-(self.room_size+1):] = 1\n",
    "                for j in range(self.room_size):\n",
    "                    self.map[-(j+1)][-(self.room_size+1)]=1\n",
    "\n",
    "                # add doors in both walls of the room\n",
    "                self.map[-(self.room_size+1)][-2:-1] = 0\n",
    "                self.map[-(self.room_size-1)][-(self.room_size+1)] = 0\n",
    "                #return(map_obj)\n",
    "            elif self.map_size < 6 and self.map_size >= 0:\n",
    "                print('Error: map size is too small, correct size is 6+')\n",
    "        else:\n",
    "            print('Error: incorrect map size type: expected int')\n",
    "            \n",
    "    def create_empty_map_v1(self):\n",
    "        if isinstance(self.map_size, int):\n",
    "            if self.map_size >=6:\n",
    "                # create empty map with\n",
    "                self.map = np.zeros((self.map_size, self.map_size), dtype=int)\n",
    "\n",
    "                # add room, with side of half of the map size\n",
    "                self.room_size = self.map_size//2\n",
    "                self.map[-(self.room_size+1)][-(self.room_size+1):] = 1\n",
    "                for j in range(self.room_size):\n",
    "                    self.map[-(j+1)][-(self.room_size+1)]=1\n",
    "\n",
    "                # add doors in both walls of the room\n",
    "                rand_1 = random.randint(-(self.room_size), -1)\n",
    "                rand_2 = random.randint(-(self.room_size), -1)\n",
    "                self.map[-(self.room_size+1)][rand_1] = 0\n",
    "                self.map[rand_2][-(self.room_size+1)] = 0\n",
    "                #return(map_obj)\n",
    "            elif self.map_size < 6 and self.map_size >= 0:\n",
    "                print('Error: map size is too small, correct size is 6+')\n",
    "        else:\n",
    "            print('Error: incorrect map size type: expected int')\n",
    "            \n",
    "    def create_boxes(self):\n",
    "        self.boxes = defaultdict()\n",
    "        for i in range(self.box_amount):\n",
    "            \n",
    "            filt = (self.map == 0)\n",
    "            \n",
    "            for j in self.boxes.keys():\n",
    "                coords = self.boxes[j]['coords']\n",
    "                filt[coords[0], coords[1]] = 0\n",
    "                \n",
    "            filt = np.array(filt, dtype = 'int')\n",
    "            rnd_p = random.choice(np.argwhere(filt))\n",
    "            self.boxes[i] = defaultdict()\n",
    "            self.boxes[i]['coords'] = list(rnd_p)\n",
    "            self.boxes[i]['locked'] = False\n",
    "            self.boxes[i]['locked_team'] = None\n",
    "            \n",
    "    def initialize_agents(self):\n",
    "        self.agents = defaultdict()\n",
    "        self.agents['seekers'] = defaultdict()\n",
    "        self.agents['hiders'] = defaultdict()\n",
    "        \n",
    "        for s in range(self.seakers_amount):\n",
    "            filt = (self.map == 0)\n",
    "            for i in self.boxes.keys():\n",
    "                coords = self.boxes[i]['coords']\n",
    "                filt[coords[0], coords[1]] = 0\n",
    "            filt = np.array(filt, dtype = 'int')\n",
    "            \n",
    "            for agent_id in self.agents['seekers'].keys():\n",
    "                ag_coords = self.agents['seekers'][agent_id]['coords']\n",
    "                filt[ag_coords[0], ag_coords[1]] = 0\n",
    "            \n",
    "            new_agent_coords = rnd_p = random.choice(np.argwhere(filt))\n",
    "            new_agent = defaultdict()\n",
    "            new_agent['coords'] = new_agent_coords\n",
    "            new_agent['sight'] = random.randint(0, 8)\n",
    "            self.agents['seekers'][s] = new_agent\n",
    "            \n",
    "        for h in range(self.hiders_amount):\n",
    "            filt = (self.map == 0)\n",
    "            for i in self.boxes.keys():\n",
    "                coords = self.boxes[i]['coords']\n",
    "                filt[coords[0], coords[1]] = 0\n",
    "            filt = np.array(filt, dtype = 'int')\n",
    "            \n",
    "            for agent_id in self.agents['seekers'].keys():\n",
    "                ag_coords = self.agents['seekers'][agent_id]['coords']\n",
    "                filt[ag_coords[0], ag_coords[1]] = 0\n",
    "                \n",
    "            for agent_id in self.agents['hiders'].keys():\n",
    "                ag_coords = self.agents['hiders'][agent_id]['coords']\n",
    "                filt[ag_coords[0], ag_coords[1]] = 0\n",
    "                \n",
    "            new_agent_coords = rnd_p = random.choice(np.argwhere(filt))\n",
    "            new_agent = defaultdict()\n",
    "            new_agent['coords'] = new_agent_coords\n",
    "            new_agent['sight'] = random.randint(0, 8)\n",
    "            self.agents['hiders'][h] = new_agent\n",
    "            \n",
    "    def check_coords(self, coords):\n",
    "        # check if it's outside the map\n",
    "        if (coords[0] >= 0)&(coords[0] < self.map_size)&(coords[1] >= 0)&(coords[1] < self.map_size):\n",
    "            # check if it is wall\n",
    "            map_section = self.map[coords[0], coords[1]]\n",
    "            # if it is free\n",
    "            if map_section == 0:\n",
    "                # check if agent there\n",
    "                no_agent = True\n",
    "                for team in ['hiders', 'seekers']:\n",
    "                    for agent_key in list(self.agents[team].keys()):\n",
    "                        if list(self.agents[team][agent_key]['coords']) == list(coords):\n",
    "                            no_agent = False\n",
    "                # if there is no agent\n",
    "                if no_agent:\n",
    "                    # check if there a box\n",
    "                    no_box = True\n",
    "                    \n",
    "                    for b_ in range(self.box_amount):\n",
    "                        # check collision\n",
    "                        if list(self.boxes[b_]['coords']) == list(coords):\n",
    "                            # if collision check if it's a free space\n",
    "                            saved_box = b_\n",
    "                            no_box = False\n",
    "                    if no_box:\n",
    "                        return [True]\n",
    "                    \n",
    "                    else:\n",
    "                        return [False, 'box', saved_box]\n",
    "                else:\n",
    "                    return [False, 'agent']\n",
    "            else:\n",
    "                return [False, 'wall']\n",
    "        else:\n",
    "            return [False, 'map edge']\n",
    "                \n",
    "    def move(self, agent_teem_id, agent_id, rotation_code, move_code, handle, box_action_code):\n",
    "        # check step limit\n",
    "        if self.step_limit == 0:\n",
    "            if self.debug:\n",
    "                print('step limit reached, error')\n",
    "        # if not reached\n",
    "        else:\n",
    "            # check imputs\n",
    "            self.step_limit -= 1\n",
    "            \n",
    "            if self.debug:\n",
    "                print(self.step_limit, 'steps left')\n",
    "\n",
    "            if rotation_code not in self.valid_rotations:\n",
    "                if self.debug:\n",
    "                    print('icorrect rotation') \n",
    "            else:\n",
    "                old_sight = self.agents[self.team_mask[agent_teem_id]][agent_id]['sight']\n",
    "                new_sight = self.sights[(old_sight + rotation_code)%8]\n",
    "                self.agents[self.team_mask[agent_teem_id]][agent_id]['sight'] = new_sight\n",
    "                    \n",
    "            if move_code not in self.valid_moves:\n",
    "                if self.debug:\n",
    "                    print('icorrect move')\n",
    "    \n",
    "            # MOVE FORWARD\n",
    "            elif move_code == 1:\n",
    "                \n",
    "                agent_old_coords = self.agents[self.team_mask[agent_teem_id]][agent_id]['coords']\n",
    "                direction = self.agents[self.team_mask[agent_teem_id]][agent_id]['sight']\n",
    "                move = self.move_map[direction][0], self.move_map[direction][1]\n",
    "                \n",
    "                y_old, x_old = agent_old_coords[0], agent_old_coords[1]\n",
    "                y_shift, x_shift = move[0], move[1]\n",
    "                \n",
    "                new_coords = [y_old + y_shift, x_old + x_shift]\n",
    "                new_crds_check = self.check_coords(new_coords)\n",
    "                if new_crds_check[0] == True:\n",
    "                    self.agents[self.team_mask[agent_teem_id]][agent_id]['coords'] = np.array(new_coords)\n",
    "                    if self.debug:\n",
    "                        print('moving forward')\n",
    "                    \n",
    "                if new_crds_check[0] == False:\n",
    "                    # if there is a box\n",
    "                    if new_crds_check[1] == 'box':\n",
    "                        if handle == 1:\n",
    "                            # check if box can be moved\n",
    "                            old_box_coords = self.boxes[new_crds_check[2]]['coords']\n",
    "                            new_box_coords = [old_box_coords[0] + y_shift, old_box_coords[1] + x_shift]\n",
    "                            new_box_crds_check = self.check_coords(new_box_coords)\n",
    "                            if new_box_crds_check[0] == True:\n",
    "                                self.agents[self.team_mask[agent_teem_id]][agent_id]['coords'] =  np.array(new_coords)\n",
    "                                if self.debug:\n",
    "                                    print('moving forward')\n",
    "                                self.boxes[new_crds_check[2]]['coords'] =  np.array(new_box_coords)\n",
    "                                if self.debug:\n",
    "                                    print('pushing the box forward')\n",
    "                                    print(old_box_coords)\n",
    "                                    print(new_box_coords)\n",
    "                            else:\n",
    "                                if self.debug:\n",
    "                                    print('box stuck')\n",
    "                        elif handle == 0:\n",
    "                            if self.debug:\n",
    "                                print('box should be pushed')\n",
    "                    else:\n",
    "                        print(\"can't move, stuck: \", new_crds_check[1])\n",
    "                        \n",
    "                # MOVE BACKWARD        \n",
    "                elif move_code == -1:\n",
    "                \n",
    "                    agent_old_coords = self.agents[self.team_mask[agent_teem_id]][agent_id]['coords']\n",
    "                    \n",
    "                    direction_forward = self.agents[self.team_mask[agent_teem_id]][agent_id]['sight']\n",
    "                    direction_backward = (direction_forward + 4)%8\n",
    "\n",
    "                    move_forward = self.move_map[direction_forward][0], self.move_map[direction_forward][1]\n",
    "                    move_backward = self.move_map[direction_backward][0], self.move_map[direction_backward][1]\n",
    "\n",
    "                    y_old, x_old = agent_old_coords[0], agent_old_coords[1]\n",
    "\n",
    "                    y_shift_forw, x_shift_forw = move_forward[0], move_forward[1]\n",
    "                    y_shift_back, x_shift_back = move_backward[0], move_backward[1]\n",
    "\n",
    "                    new_coords_forw = [y_old + y_shift_forw, x_old + x_shift_forw]\n",
    "                    new_coords_back = [y_old + y_shift_back, x_old + x_shift_back]\n",
    "\n",
    "                    new_crds_check_forw = self.check_coords(new_coords_forw)\n",
    "                    new_crds_check_back = self.check_coords(new_coords_back)\n",
    "\n",
    "                    if new_crds_check_back[0] == True:\n",
    "                        if handle == 1:\n",
    "                            if new_crds_check_forw[0] =='box':\n",
    "                                self.agents[self.team_mask[agent_teem_id]][agent_id]['coords'] = np.array(new_coords_back)\n",
    "                                self.boxes[new_crds_check_forw[2]]['coords'] =  np.array(agent_old_coords)\n",
    "                                if self.debug:\n",
    "                                    print('moving backward and pulling the box')\n",
    "                            else:\n",
    "                                self.agents[self.team_mask[agent_teem_id]][agent_id]['coords'] = np.array(new_coords_back)\n",
    "                                if self.debug:\n",
    "                                    print('tried to pull the box, no box, moving backward')\n",
    "                        elif handle == 0:\n",
    "                            self.agents[self.team_mask[agent_teem_id]][agent_id]['coords'] = np.array(new_coords_back)\n",
    "                            if self.debug:\n",
    "                                print('moving backward')\n",
    "\n",
    "                    elif new_crds_check_back[0] == False:\n",
    "                        # if there is a box\n",
    "                        if new_crds_check[1] == 'box':\n",
    "                            if self.debug:\n",
    "                                print(\"can't move backward, box should be pushed\")\n",
    "                        else:\n",
    "                            print(\"can't move backward, stuck: \", new_crds_check[1])\n",
    "                            \n",
    "            if box_action_code not in self.box_interactions:\n",
    "                if self.debug:\n",
    "                    print('icorrect interaction')\n",
    "                    \n",
    "    def show_map(self):\n",
    "        map_to_show = np.array(self.map, dtype=object)\n",
    "        for team_ in list(self.agents.keys()):\n",
    "            for agent_key in list(self.agents[team_].keys()):\n",
    "                target = self.agents[team_][agent_key]['coords']\n",
    "                y_t, x_t = target[0], target[1]\n",
    "                if team_ == 'hiders':\n",
    "                    map_to_show[y_t, x_t] = 2\n",
    "                else:\n",
    "                    map_to_show[y_t, x_t] = 3\n",
    "        for box_id in list(self.boxes.keys()):\n",
    "            target = self.boxes[box_id]['coords']\n",
    "            y_t, x_t = target[0], target[1]\n",
    "            map_to_show[y_t, x_t] = 8\n",
    "        print(np.array2string(map_to_show, separator=' ', formatter={'str_kind': lambda x: x}))\n",
    "        # print(map_to_show, sep =', ')\n",
    "            \n",
    "    # def observation(self, agent_team, agent_number):\n",
    "                                \n",
    "    def reward(self):\n",
    "        # we need to define a reward\n",
    "        reward = 0\n",
    "        \n",
    "        return reward\n",
    "\n",
    "    def reset(self):\n",
    "        \n",
    "        if self.use_seed:\n",
    "            random.seed(self.seed)\n",
    "            \n",
    "        self.step_limit = self.base_step_limit\n",
    "        self.initialize_map()\n",
    "\n",
    "    def observation(self, agent_teem_id, agent_id):\n",
    "        agents = self.agents\n",
    "        boxes = self.boxes\n",
    "        #get visibility mask\n",
    "        vision_map = vision(self.map, \n",
    "                            tuple(agents[agent_teem_id][agent_id]['coords'].tolist()), \n",
    "                            int(agents[agent_teem_id][agent_id]['sight']))\n",
    "        \n",
    "        observation_dict = dict()\n",
    "        observation_dict['agents'] = dict()\n",
    "        observation_dict['boxes'] = dict()\n",
    "        \n",
    "        names = []\n",
    "        if agent_teem_id == 0:\n",
    "            names = ['hiders', 'seekers']\n",
    "        else:\n",
    "            names = ['seekers', 'hiders']\n",
    "        \n",
    "        i1 = 0\n",
    "        for team_ in names:\n",
    "            for j in agents[team_]:\n",
    "                if(team_ != names[0] or j != agent_id):\n",
    "                    observation_dict['agents'][i1] = dict()\n",
    "                    observation_dict['agents'][i1]['coords'] = agents[team_][j]['coords']\n",
    "                    agent_visibility = bool(vision_map[agents[team_][j]['coords'][0]][agents[team_][j]['coords'][1]])\n",
    "                    observation_dict['agents'][i1]['visible'] = agent_visibility\n",
    "                    i1 += 1\n",
    "        for i in boxes:\n",
    "            observation_dict['boxes'][i] = dict()\n",
    "            observation_dict['boxes'][i]['coords'] = boxes[i]['coords']\n",
    "            observation_dict['boxes'][i]['visible'] = bool(vision_map[boxes[i]['coords'][0]][boxes[i]['coords'][1]])\n",
    "        return observation_dict\n",
    "    \n",
    "    def show_vision(self, agent_teem_id, agent_id):\n",
    "        agent_teem = self.team_mask[agent_teem_id]\n",
    "        return vision(self.map, \n",
    "                      tuple(self.agents[agent_teem][agent_id]['coords'].tolist()), \n",
    "                      int(self.agents[agent_teem][agent_id]['sight']))\n",
    "    \n",
    "    def reward(self):\n",
    "        #Returns reward for hiders team\n",
    "        reward = 0\n",
    "        hiders_hidden = True\n",
    "\n",
    "        for i in self.agents['seekers'].keys():\n",
    "            obs = self.observation('seekers', i)['agents']\n",
    "            #(len(list(obs.keys())) + 1) // 2 - 1\n",
    "            #This is number of the first agent from the enemy team.\n",
    "            #So this is number of the first hider in the observation.\n",
    "            for j in range((len(list(obs.keys())) + 1) // 2 - 1, len(list(obs.keys()))):\n",
    "                if obs[j]['visible']:\n",
    "                    hiders_hidden = False\n",
    "                    break\n",
    "            if not hiders_hidden:\n",
    "                break\n",
    "\n",
    "\n",
    "        if hiders_hidden:\n",
    "            reward = 1\n",
    "        else:\n",
    "            reward = -1\n",
    "        \n",
    "        return reward"
   ]
  },
  {
   "cell_type": "code",
   "execution_count": 42,
   "metadata": {
    "colab": {
     "base_uri": "https://localhost:8080/",
     "height": 153
    },
    "colab_type": "code",
    "id": "IvNjyzxIl46a",
    "outputId": "7b668b84-3ebf-4b4d-c249-3ae523f8d59e"
   },
   "outputs": [
    {
     "name": "stdout",
     "output_type": "stream",
     "text": [
      "[[0 0 0 0 0 0 0 8 8 0 0 0 0 0 0 0 0 0 0 0]\n",
      " [0 0 0 0 0 0 0 0 0 0 0 0 0 0 0 0 0 0 0 0]\n",
      " [0 0 0 0 0 0 0 0 0 0 0 0 0 0 0 0 0 0 0 0]\n",
      " [0 0 2 0 0 0 0 0 0 0 0 0 0 0 0 0 0 0 0 0]\n",
      " [0 0 0 0 0 0 0 0 0 0 0 0 0 0 0 0 0 0 0 0]\n",
      " [0 0 0 0 0 0 0 0 0 0 0 0 3 0 0 0 0 0 0 0]\n",
      " [0 0 0 0 0 0 0 0 0 8 0 0 8 0 0 0 0 0 0 0]\n",
      " [0 0 0 0 0 0 0 0 0 0 0 0 0 0 0 0 0 0 0 0]\n",
      " [0 0 0 0 0 0 0 0 0 0 0 0 0 0 0 0 0 0 0 0]\n",
      " [0 0 0 0 0 0 0 0 0 1 1 1 1 1 1 1 1 1 1 0]\n",
      " [0 0 0 0 0 0 0 0 0 1 0 0 0 0 0 0 0 0 0 0]\n",
      " [0 0 0 0 0 0 0 0 0 1 0 0 0 0 0 0 0 0 0 0]\n",
      " [0 0 0 0 0 0 0 0 0 1 0 0 0 0 0 0 0 0 0 0]\n",
      " [0 0 0 0 0 0 0 0 0 1 0 3 0 0 0 0 0 0 0 0]\n",
      " [0 0 2 0 0 0 0 0 0 1 0 0 0 0 0 0 0 0 0 0]\n",
      " [0 0 0 0 0 0 0 0 0 0 0 0 0 0 0 0 0 0 0 0]\n",
      " [0 0 0 0 0 0 0 0 0 1 0 0 0 0 0 0 0 0 0 0]\n",
      " [0 0 0 0 0 0 0 0 0 1 0 0 0 0 0 0 0 0 0 0]\n",
      " [0 0 0 0 0 0 0 0 0 1 0 0 0 0 0 0 0 0 0 0]\n",
      " [0 0 0 0 0 0 0 0 0 1 0 0 0 0 0 0 0 0 0 0]]\n"
     ]
    }
   ],
   "source": [
    "new_env = env(1,20)\n",
    "new_env.show_map()"
   ]
  },
  {
   "cell_type": "code",
   "execution_count": 43,
   "metadata": {
    "colab": {
     "base_uri": "https://localhost:8080/",
     "height": 153
    },
    "colab_type": "code",
    "id": "P8g7e6jpXpqe",
    "outputId": "eb02eb98-b48a-48f4-d95c-689118c23e52"
   },
   "outputs": [
    {
     "data": {
      "text/plain": [
       "array([[0, 0, 0, 0, 0, 0, 0, 0, 0, 0, 0, 0, 0, 0, 0, 0, 0, 0, 0, 0],\n",
       "       [0, 0, 0, 0, 0, 0, 0, 0, 0, 0, 0, 0, 0, 0, 0, 0, 0, 0, 0, 0],\n",
       "       [0, 0, 0, 0, 0, 0, 0, 0, 0, 0, 0, 0, 0, 0, 0, 0, 0, 0, 0, 0],\n",
       "       [0, 0, 0, 0, 0, 0, 0, 0, 0, 0, 0, 0, 0, 0, 0, 0, 0, 0, 0, 0],\n",
       "       [0, 0, 0, 0, 0, 0, 0, 0, 0, 0, 0, 0, 0, 0, 0, 0, 0, 0, 0, 0],\n",
       "       [0, 0, 0, 0, 0, 0, 0, 0, 0, 0, 0, 0, 0, 0, 0, 0, 0, 0, 0, 0],\n",
       "       [0, 0, 0, 0, 0, 0, 0, 0, 0, 0, 0, 0, 0, 0, 0, 0, 0, 0, 0, 0],\n",
       "       [0, 0, 0, 0, 0, 0, 0, 0, 0, 0, 0, 0, 0, 0, 0, 0, 0, 0, 0, 0],\n",
       "       [0, 0, 0, 0, 0, 0, 0, 0, 0, 0, 0, 0, 0, 0, 0, 0, 0, 0, 0, 0],\n",
       "       [0, 0, 0, 0, 0, 0, 0, 0, 0, 1, 1, 1, 1, 1, 1, 1, 1, 1, 1, 0],\n",
       "       [0, 0, 0, 0, 0, 0, 0, 0, 0, 1, 0, 0, 0, 0, 0, 0, 0, 0, 0, 0],\n",
       "       [0, 0, 0, 0, 0, 0, 0, 0, 0, 1, 0, 0, 0, 0, 0, 0, 0, 0, 0, 0],\n",
       "       [0, 0, 0, 0, 0, 0, 0, 0, 0, 1, 0, 0, 0, 0, 0, 0, 0, 0, 0, 0],\n",
       "       [0, 0, 0, 0, 0, 0, 0, 0, 0, 1, 0, 0, 0, 0, 0, 0, 0, 0, 0, 0],\n",
       "       [0, 0, 0, 0, 0, 0, 0, 0, 0, 1, 0, 0, 0, 0, 0, 0, 0, 0, 0, 0],\n",
       "       [0, 0, 0, 0, 0, 0, 0, 0, 0, 0, 0, 0, 0, 0, 0, 0, 0, 0, 0, 0],\n",
       "       [0, 0, 0, 0, 0, 0, 0, 0, 0, 1, 0, 0, 0, 0, 0, 0, 0, 0, 0, 0],\n",
       "       [0, 0, 0, 0, 0, 0, 0, 0, 0, 1, 0, 0, 0, 0, 0, 0, 0, 0, 0, 0],\n",
       "       [0, 0, 0, 0, 0, 0, 0, 0, 0, 1, 0, 0, 0, 0, 0, 0, 0, 0, 0, 0],\n",
       "       [0, 0, 0, 0, 0, 0, 0, 0, 0, 1, 0, 0, 0, 0, 0, 0, 0, 0, 0, 0]])"
      ]
     },
     "execution_count": 43,
     "metadata": {},
     "output_type": "execute_result"
    }
   ],
   "source": [
    "new_env.map"
   ]
  },
  {
   "cell_type": "code",
   "execution_count": 44,
   "metadata": {},
   "outputs": [
    {
     "data": {
      "text/plain": [
       "1"
      ]
     },
     "execution_count": 44,
     "metadata": {},
     "output_type": "execute_result"
    }
   ],
   "source": [
    "new_env.reward()"
   ]
  },
  {
   "cell_type": "code",
   "execution_count": 45,
   "metadata": {},
   "outputs": [
    {
     "data": {
      "text/plain": [
       "array([[0, 0, 0, 0, 0, 0, 0, 0, 0, 0, 0, 0, 0, 0, 0, 0, 0, 0, 0, 0],\n",
       "       [0, 0, 0, 0, 0, 0, 0, 0, 0, 0, 0, 0, 0, 0, 0, 0, 0, 0, 0, 0],\n",
       "       [0, 0, 0, 0, 0, 0, 0, 0, 0, 0, 0, 0, 0, 0, 0, 0, 0, 0, 0, 0],\n",
       "       [0, 0, 0, 0, 0, 0, 0, 0, 0, 0, 0, 0, 0, 0, 0, 0, 0, 0, 0, 0],\n",
       "       [0, 0, 0, 0, 0, 0, 0, 0, 0, 0, 0, 0, 0, 0, 0, 0, 0, 0, 0, 0],\n",
       "       [0, 0, 0, 0, 0, 0, 0, 0, 0, 0, 0, 0, 0, 0, 0, 0, 0, 0, 0, 0],\n",
       "       [0, 0, 0, 0, 0, 0, 0, 0, 0, 0, 0, 0, 0, 0, 0, 0, 0, 0, 0, 0],\n",
       "       [0, 0, 0, 0, 0, 0, 0, 0, 0, 0, 0, 0, 0, 0, 0, 0, 0, 0, 0, 0],\n",
       "       [0, 0, 0, 0, 0, 0, 0, 0, 0, 0, 0, 0, 0, 0, 0, 0, 0, 0, 0, 0],\n",
       "       [0, 0, 0, 0, 0, 0, 0, 0, 0, 0, 0, 0, 0, 0, 0, 0, 0, 0, 0, 0],\n",
       "       [0, 0, 0, 0, 0, 0, 0, 0, 0, 0, 0, 0, 0, 0, 0, 0, 0, 0, 0, 0],\n",
       "       [0, 0, 0, 0, 0, 0, 0, 0, 0, 0, 0, 0, 0, 0, 0, 0, 0, 0, 0, 0],\n",
       "       [0, 0, 0, 0, 0, 0, 0, 0, 0, 0, 0, 0, 0, 0, 0, 0, 0, 0, 0, 0],\n",
       "       [0, 0, 0, 0, 0, 0, 0, 0, 0, 0, 0, 0, 0, 0, 0, 0, 0, 0, 0, 0],\n",
       "       [0, 0, 1, 1, 1, 1, 1, 1, 1, 1, 0, 0, 0, 0, 0, 0, 0, 0, 0, 0],\n",
       "       [0, 0, 1, 1, 1, 1, 1, 1, 1, 1, 1, 1, 1, 1, 1, 1, 0, 0, 0, 0],\n",
       "       [0, 0, 1, 1, 1, 1, 1, 1, 1, 1, 1, 1, 1, 1, 1, 1, 1, 1, 1, 1],\n",
       "       [0, 0, 1, 1, 1, 1, 1, 1, 1, 1, 0, 0, 0, 0, 1, 1, 1, 1, 1, 1],\n",
       "       [0, 0, 1, 1, 1, 1, 1, 1, 1, 1, 0, 0, 0, 0, 0, 0, 0, 0, 1, 1],\n",
       "       [0, 0, 1, 1, 1, 1, 1, 1, 1, 1, 0, 0, 0, 0, 0, 0, 0, 0, 0, 0]])"
      ]
     },
     "execution_count": 45,
     "metadata": {},
     "output_type": "execute_result"
    }
   ],
   "source": [
    "new_env.show_vision(1, 1)"
   ]
  },
  {
   "cell_type": "code",
   "execution_count": 16,
   "metadata": {
    "colab": {
     "base_uri": "https://localhost:8080/",
     "height": 136
    },
    "colab_type": "code",
    "id": "6td_ygNcl46d",
    "outputId": "1ce4f937-c489-422b-d75a-ce5b86143a13"
   },
   "outputs": [
    {
     "data": {
      "text/plain": [
       "{'agents': {0: {'coords': array([13,  7], dtype=int64), 'visible': False},\n",
       "  1: {'coords': array([1, 0], dtype=int64), 'visible': False},\n",
       "  2: {'coords': array([14,  1], dtype=int64), 'visible': True}},\n",
       " 'boxes': {0: {'coords': [14, 15], 'visible': False},\n",
       "  1: {'coords': [0, 8], 'visible': False},\n",
       "  2: {'coords': [16, 4], 'visible': False},\n",
       "  3: {'coords': [13, 8], 'visible': False}}}"
      ]
     },
     "execution_count": 16,
     "metadata": {},
     "output_type": "execute_result"
    }
   ],
   "source": [
    "#print('what')\n",
    "new_env.debug = 1\n",
    "new_env.observation('hiders', 1)"
   ]
  },
  {
   "cell_type": "code",
   "execution_count": 22,
   "metadata": {},
   "outputs": [
    {
     "data": {
      "text/plain": [
       "defaultdict(None,\n",
       "            {'seekers': defaultdict(None,\n",
       "                         {0: defaultdict(None,\n",
       "                                      {'coords': array([13,  7], dtype=int64),\n",
       "                                       'sight': 8}),\n",
       "                          1: defaultdict(None,\n",
       "                                      {'coords': array([11, 17], dtype=int64),\n",
       "                                       'sight': 2})}),\n",
       "             'hiders': defaultdict(None,\n",
       "                         {0: defaultdict(None,\n",
       "                                      {'coords': array([0, 1], dtype=int64),\n",
       "                                       'sight': 2}),\n",
       "                          1: defaultdict(None,\n",
       "                                      {'coords': array([14,  1], dtype=int64),\n",
       "                                       'sight': 6})})})"
      ]
     },
     "execution_count": 22,
     "metadata": {},
     "output_type": "execute_result"
    }
   ],
   "source": [
    "new_env.agents"
   ]
  },
  {
   "cell_type": "code",
   "execution_count": 21,
   "metadata": {
    "colab": {
     "base_uri": "https://localhost:8080/",
     "height": 238
    },
    "colab_type": "code",
    "id": "VMx_IYWWl46g",
    "outputId": "c446e391-02e4-4607-b98a-f21eb1646eff"
   },
   "outputs": [
    {
     "name": "stdout",
     "output_type": "stream",
     "text": [
      "237 steps left\n",
      "moving\n",
      "[[0 2 0 0 0 0 0 0 8 0 0 0 0 0 0 0 0 0 0 0]\n",
      " [0 0 0 0 0 0 0 0 0 0 0 0 0 0 0 0 0 0 0 0]\n",
      " [0 0 0 0 0 0 0 0 0 0 0 0 0 0 0 0 0 0 0 0]\n",
      " [0 0 0 0 0 0 0 0 0 0 0 0 0 0 0 0 0 0 0 0]\n",
      " [0 0 0 0 0 0 0 0 0 0 0 0 0 0 0 0 0 0 0 0]\n",
      " [0 0 0 0 0 0 0 0 0 0 0 0 0 0 0 0 0 0 0 0]\n",
      " [0 0 0 0 0 0 0 0 0 0 0 0 0 0 0 0 0 0 0 0]\n",
      " [0 0 0 0 0 0 0 0 0 0 0 0 0 0 0 0 0 0 0 0]\n",
      " [0 0 0 0 0 0 0 0 0 0 0 0 0 0 0 0 0 0 0 0]\n",
      " [0 0 0 0 0 0 0 0 0 1 0 1 1 1 1 1 1 1 1 1]\n",
      " [0 0 0 0 0 0 0 0 0 1 0 0 0 0 0 0 0 0 0 0]\n",
      " [0 0 0 0 0 0 0 0 0 1 0 0 0 0 0 0 0 3 0 0]\n",
      " [0 0 0 0 0 0 0 0 0 1 0 0 0 0 0 0 0 0 0 0]\n",
      " [0 0 0 0 0 0 0 3 8 0 0 0 0 0 0 0 0 0 0 0]\n",
      " [0 2 0 0 0 0 0 0 0 1 0 0 0 0 0 8 0 0 0 0]\n",
      " [0 0 0 0 0 0 0 0 0 1 0 0 0 0 0 0 0 0 0 0]\n",
      " [0 0 0 0 8 0 0 0 0 1 0 0 0 0 0 0 0 0 0 0]\n",
      " [0 0 0 0 0 0 0 0 0 1 0 0 0 0 0 0 0 0 0 0]\n",
      " [0 0 0 0 0 0 0 0 0 1 0 0 0 0 0 0 0 0 0 0]\n",
      " [0 0 0 0 0 0 0 0 0 1 0 0 0 0 0 0 0 0 0 0]]\n"
     ]
    }
   ],
   "source": [
    "# move(self, agent_teem_id, agent_id, rotation_code, move_code, interaction_code):\n",
    "new_env.move(1, 0, 2, 1, 0)\n",
    "new_env.show_map()"
   ]
  },
  {
   "cell_type": "code",
   "execution_count": null,
   "metadata": {
    "colab": {
     "base_uri": "https://localhost:8080/",
     "height": 221
    },
    "colab_type": "code",
    "id": "4eaq-Oi3l46j",
    "outputId": "2b7334e3-475e-4a5c-c43c-820af2e82665"
   },
   "outputs": [
    {
     "data": {
      "text/plain": [
       "defaultdict(None,\n",
       "            {'hiders': defaultdict(None,\n",
       "                         {0: defaultdict(None,\n",
       "                                      {'coords': array([0, 0]), 'sight': 3}),\n",
       "                          1: defaultdict(None,\n",
       "                                      {'coords': array([1, 5]), 'sight': 7})}),\n",
       "             'seekers': defaultdict(None,\n",
       "                         {0: defaultdict(None,\n",
       "                                      {'coords': array([5, 0]), 'sight': 0}),\n",
       "                          1: defaultdict(None,\n",
       "                                      {'coords': array([6, 0]),\n",
       "                                       'sight': 1})})})"
      ]
     },
     "execution_count": 7,
     "metadata": {
      "tags": []
     },
     "output_type": "execute_result"
    }
   ],
   "source": [
    "new_env.agents"
   ]
  },
  {
   "cell_type": "code",
   "execution_count": null,
   "metadata": {
    "colab": {
     "base_uri": "https://localhost:8080/",
     "height": 34
    },
    "colab_type": "code",
    "id": "8WhP8uQ2l46m",
    "outputId": "b43aab96-161b-4387-8fc7-4ceb61123c20"
   },
   "outputs": [
    {
     "data": {
      "text/plain": [
       "[7, 0]"
      ]
     },
     "execution_count": 8,
     "metadata": {
      "tags": []
     },
     "output_type": "execute_result"
    }
   ],
   "source": [
    "new_env.boxes[0]['coords']"
   ]
  },
  {
   "cell_type": "code",
   "execution_count": null,
   "metadata": {
    "colab": {
     "base_uri": "https://localhost:8080/",
     "height": 306
    },
    "colab_type": "code",
    "id": "BrWBKR3Wl46o",
    "outputId": "88d63df2-59e8-49b4-b482-21666c835c03"
   },
   "outputs": [
    {
     "data": {
      "text/plain": [
       "defaultdict(None,\n",
       "            {0: defaultdict(None,\n",
       "                         {'coords': [7, 0],\n",
       "                          'locked': False,\n",
       "                          'locked_team': None}),\n",
       "             1: defaultdict(None,\n",
       "                         {'coords': array([0, 4]),\n",
       "                          'locked': False,\n",
       "                          'locked_team': None}),\n",
       "             2: defaultdict(None,\n",
       "                         {'coords': [2, 1],\n",
       "                          'locked': False,\n",
       "                          'locked_team': None}),\n",
       "             3: defaultdict(None,\n",
       "                         {'coords': [2, 0],\n",
       "                          'locked': False,\n",
       "                          'locked_team': None})})"
      ]
     },
     "execution_count": 9,
     "metadata": {
      "tags": []
     },
     "output_type": "execute_result"
    }
   ],
   "source": [
    "new_env.boxes"
   ]
  },
  {
   "cell_type": "code",
   "execution_count": null,
   "metadata": {
    "colab": {},
    "colab_type": "code",
    "id": "NYnffJRYl46r"
   },
   "outputs": [],
   "source": [
    "def move(teem, agent, rotation, move, interaction):\n",
    "    # self.valid_rotations = ['-90 deg', '-45 deg', 'pass', '+45 deg', '+90 deg']\n",
    "    self.valid_rotations = [-2, -1, 0, 1, 2]\n",
    "    \n",
    "    # self.valid_moves = ['backward', 'pass', 'forward']\n",
    "    self.valid_moves = [0, 1, 2]\n",
    "    \n",
    "    # self.valid_interactions = ['pass', 'lock', 'unlock']\n",
    "    self.valid_interactions = [0, 1, 2]"
   ]
  },
  {
   "cell_type": "code",
   "execution_count": null,
   "metadata": {
    "colab": {},
    "colab_type": "code",
    "id": "n7VnJ8nql46t"
   },
   "outputs": [],
   "source": [
    "        # self.valid_rotations = ['-90 deg', '-45 deg', 'pass', '+45 deg', '+90 deg']\n",
    "        self.valid_rotations = [-2, -1, 0, 1, 2]\n",
    "        \n",
    "        # self.valid_moves = ['backward', 'pass', 'forward']\n",
    "        self.valid_moves = [0, 1, 2]\n",
    "        \n",
    "        # self.valid_interactions = ['pass', 'lock', 'unlock']\n",
    "        self.valid_interactions = [0, 1, 2]"
   ]
  },
  {
   "cell_type": "code",
   "execution_count": null,
   "metadata": {
    "colab": {},
    "colab_type": "code",
    "id": "M-uMh72Gl46v"
   },
   "outputs": [],
   "source": [
    "test = [0,1,2,3,4,5,6,7]"
   ]
  },
  {
   "cell_type": "code",
   "execution_count": null,
   "metadata": {
    "colab": {},
    "colab_type": "code",
    "id": "i9EZ8sEGl46x"
   },
   "outputs": [],
   "source": [
    "move = 1\n",
    "look = 7"
   ]
  },
  {
   "cell_type": "code",
   "execution_count": null,
   "metadata": {
    "colab": {
     "base_uri": "https://localhost:8080/",
     "height": 34
    },
    "colab_type": "code",
    "id": "1enpCPXdl460",
    "outputId": "0f8d90b9-f8cc-4a3f-ea32-69b94656fc94"
   },
   "outputs": [
    {
     "data": {
      "text/plain": [
       "0"
      ]
     },
     "execution_count": 14,
     "metadata": {
      "tags": []
     },
     "output_type": "execute_result"
    }
   ],
   "source": [
    "test[(look + move)%8]"
   ]
  },
  {
   "cell_type": "code",
   "execution_count": null,
   "metadata": {
    "colab": {},
    "colab_type": "code",
    "id": "JkTVZMe6l462",
    "outputId": "6f7b4275-e375-4f06-9a78-186da576c69b"
   },
   "outputs": [
    {
     "data": {
      "text/plain": [
       "9"
      ]
     },
     "execution_count": 71,
     "metadata": {
      "tags": []
     },
     "output_type": "execute_result"
    }
   ],
   "source": [
    "len(test)"
   ]
  },
  {
   "cell_type": "code",
   "execution_count": null,
   "metadata": {
    "colab": {},
    "colab_type": "code",
    "id": "Qlc4Z0Mel465"
   },
   "outputs": [],
   "source": [
    "test_aaa = np.array([[1,2,3],[4,5,6],[7,8,9]])"
   ]
  },
  {
   "cell_type": "code",
   "execution_count": null,
   "metadata": {
    "colab": {},
    "colab_type": "code",
    "id": "eev4Cowal467",
    "outputId": "810678a6-ce26-45e7-9263-59e7cb9529c5"
   },
   "outputs": [
    {
     "data": {
      "text/plain": [
       "array([1, 2, 3])"
      ]
     },
     "execution_count": 14,
     "metadata": {
      "tags": []
     },
     "output_type": "execute_result"
    }
   ],
   "source": [
    "test_aaa[0]"
   ]
  },
  {
   "cell_type": "code",
   "execution_count": null,
   "metadata": {
    "colab": {},
    "colab_type": "code",
    "id": "5kjH6dDhl469"
   },
   "outputs": [],
   "source": [
    "#1 row\n",
    "#2 column"
   ]
  },
  {
   "cell_type": "code",
   "execution_count": null,
   "metadata": {
    "colab": {
     "base_uri": "https://localhost:8080/",
     "height": 197
    },
    "colab_type": "code",
    "id": "pc-Z7377l47A",
    "outputId": "79f62820-34b9-44e6-a392-b8f689a617fd"
   },
   "outputs": [
    {
     "ename": "NameError",
     "evalue": "ignored",
     "output_type": "error",
     "traceback": [
      "\u001b[0;31m---------------------------------------------------------------------------\u001b[0m",
      "\u001b[0;31mNameError\u001b[0m                                 Traceback (most recent call last)",
      "\u001b[0;32m<ipython-input-15-520c566e85f3>\u001b[0m in \u001b[0;36m<module>\u001b[0;34m()\u001b[0m\n\u001b[1;32m     17\u001b[0m                  \u001b[0;36m6\u001b[0m\u001b[0;34m:\u001b[0m\u001b[0;34m[\u001b[0m\u001b[0;36m1\u001b[0m\u001b[0;34m,\u001b[0m\u001b[0;34m-\u001b[0m\u001b[0;36m1\u001b[0m\u001b[0;34m]\u001b[0m\u001b[0;34m,\u001b[0m\u001b[0;34m\u001b[0m\u001b[0;34m\u001b[0m\u001b[0m\n\u001b[1;32m     18\u001b[0m                  \u001b[0;36m7\u001b[0m\u001b[0;34m:\u001b[0m\u001b[0;34m[\u001b[0m\u001b[0;36m0\u001b[0m\u001b[0;34m,\u001b[0m\u001b[0;34m-\u001b[0m\u001b[0;36m1\u001b[0m\u001b[0;34m]\u001b[0m\u001b[0;34m,\u001b[0m\u001b[0;34m\u001b[0m\u001b[0;34m\u001b[0m\u001b[0m\n\u001b[0;32m---> 19\u001b[0;31m                  8:[-1,-1]}\n\u001b[0m",
      "\u001b[0;31mNameError\u001b[0m: name 'self' is not defined"
     ]
    }
   ],
   "source": [
    "#0 pass [0, 0]\n",
    "#1 up [-1, 0]\n",
    "#2 up + right [-1, 1]\n",
    "#3 right [0, 1]\n",
    "#4 bottom + right [1, 1]\n",
    "#5 bottom [1, 0]\n",
    "#6 bottom + left [1, -1]\n",
    "#7 left [0, -1]\n",
    "#8 up + lef [-1, -1]\n",
    "\n",
    "self.move_map = {0:[0,0], \n",
    "                 1:[-1,0], \n",
    "                 2:[-1,1], \n",
    "                 3:[0,1], \n",
    "                 4:[1,1],\n",
    "                 5:[1,0],\n",
    "                 6:[1,-1],\n",
    "                 7:[0,-1],\n",
    "                 8:[-1,-1]}"
   ]
  }
 ],
 "metadata": {
  "colab": {
   "collapsed_sections": [],
   "name": "environment.ipynb",
   "provenance": []
  },
  "kernelspec": {
   "display_name": "Python 3",
   "language": "python",
   "name": "python3"
  },
  "language_info": {
   "codemirror_mode": {
    "name": "ipython",
    "version": 3
   },
   "file_extension": ".py",
   "mimetype": "text/x-python",
   "name": "python",
   "nbconvert_exporter": "python",
   "pygments_lexer": "ipython3",
   "version": "3.7.3"
  }
 },
 "nbformat": 4,
 "nbformat_minor": 1
}
