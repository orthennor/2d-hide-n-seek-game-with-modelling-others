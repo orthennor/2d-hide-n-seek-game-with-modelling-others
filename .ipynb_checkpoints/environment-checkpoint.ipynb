{
 "cells": [
  {
   "cell_type": "code",
   "execution_count": 1,
   "metadata": {},
   "outputs": [],
   "source": [
    "import numpy as np\n",
    "import random\n",
    "from collections import defaultdict"
   ]
  },
  {
   "cell_type": "code",
   "execution_count": 2,
   "metadata": {},
   "outputs": [],
   "source": [
    "# map + \n",
    "# agents\n",
    "# boxes\n",
    "# step"
   ]
  },
  {
   "cell_type": "code",
   "execution_count": 274,
   "metadata": {},
   "outputs": [],
   "source": [
    "class env:\n",
    "    def __init__(self, \n",
    "                 map_version, \n",
    "                 map_size, \n",
    "                 step_limit = 240, \n",
    "                 preparation = 0.4,\n",
    "                 agents_number = [2, 2] , \n",
    "                 boxes_number = 4, \n",
    "                 debug = 0, \n",
    "                 use_seed = False, \n",
    "                 seed = 42):\n",
    "        \n",
    "        # self.seed = seed\n",
    "        # self.use_seed = use_seed\n",
    "        # if self.use_seed:\n",
    "        #     random.seed(self.seed)\n",
    "            \n",
    "        self.debug = debug\n",
    "        self.map_size = map_size\n",
    "        self.base_step_limit = step_limit\n",
    "        self.step_limit = self.base_step_limit\n",
    "        self.box_amount = boxes_number\n",
    "        self.seakers_amount = agents_number[0]\n",
    "        self.hiders_amount = agents_number[1]\n",
    "        self.team_mask = {0: 'seekers', 1:'hiders'}\n",
    "        \n",
    "        # self.valid_rotations = ['-90 deg', '-45 deg', 'pass', '+45 deg', '+90 deg']\n",
    "        self.valid_rotations = [-2, -1, 0, 1, 2]\n",
    "        self.sights = [0,1,2,3,4,5,6,7]\n",
    "        \n",
    "        # self.valid_moves = ['pass', 'forward']\n",
    "        self.valid_moves = [0, 1]\n",
    "        \n",
    "        # self.valid_interactions = ['pass', 'lock', 'unlock']\n",
    "        self.valid_interactions = [0, 1, 2]\n",
    "        \n",
    "        self.move_map = {0:[-1,0], \n",
    "                         1:[-1,1], \n",
    "                         2:[0,1], \n",
    "                         3:[1,1],\n",
    "                         4:[1,0],\n",
    "                         5:[1,-1],\n",
    "                         6:[0,-1],\n",
    "                         7:[-1,-1]}\n",
    "        \n",
    "        if map_version == 1:\n",
    "            self.create_empty_map_v1()\n",
    "        self.create_boxes()\n",
    "        self.initialize_agents()\n",
    "\n",
    "    def create_empty_map_v1_with_walls(self):\n",
    "        if isinstance(self.map_size, int):\n",
    "            if self.map_size >=6:\n",
    "                # create empty map with aaditional place for external walls\n",
    "                self.map = np.zeros((self.map_size+2, self.map_size+2), dtype=int)\n",
    "                # add external walls\n",
    "                self.map[0], self.map[-1] = 1, 1\n",
    "                for i in range(self.map_size+2):\n",
    "                    self.map[i][0], self.map[i][-1] = 1, 1\n",
    "\n",
    "                # add room, with side of half of the map size\n",
    "                self.room_size = self.map_size//2\n",
    "                self.map[-(self.room_size+1)][-(self.room_size+1):] = 1\n",
    "                for j in range(self.room_size):\n",
    "                    self.map[-(j+1)][-(self.room_size+1)]=1\n",
    "\n",
    "                # add doors in both walls of the room\n",
    "                self.map[-(self.room_size+1)][-2:-1] = 0\n",
    "                self.map[-(self.room_size-1)][-(self.room_size+1)] = 0\n",
    "                #return(map_obj)\n",
    "            elif self.map_size < 6 and self.map_size >= 0:\n",
    "                print('Error: map size is too small, correct size is 6+')\n",
    "        else:\n",
    "            print('Error: incorrect map size type: expected int')\n",
    "            \n",
    "    def create_empty_map_v1(self):\n",
    "        if isinstance(self.map_size, int):\n",
    "            if self.map_size >=6:\n",
    "                # create empty map with\n",
    "                self.map = np.zeros((self.map_size, self.map_size), dtype=int)\n",
    "\n",
    "                # add room, with side of half of the map size\n",
    "                self.room_size = self.map_size//2\n",
    "                self.map[-(self.room_size+1)][-(self.room_size+1):] = 1\n",
    "                for j in range(self.room_size):\n",
    "                    self.map[-(j+1)][-(self.room_size+1)]=1\n",
    "\n",
    "                # add doors in both walls of the room\n",
    "                rand_1 = random.randint(-(self.room_size), -1)\n",
    "                rand_2 = random.randint(-(self.room_size), -1)\n",
    "                self.map[-(self.room_size+1)][rand_1] = 0\n",
    "                self.map[rand_2][-(self.room_size+1)] = 0\n",
    "                #return(map_obj)\n",
    "            elif self.map_size < 6 and self.map_size >= 0:\n",
    "                print('Error: map size is too small, correct size is 6+')\n",
    "        else:\n",
    "            print('Error: incorrect map size type: expected int')\n",
    "            \n",
    "    def create_boxes(self):\n",
    "        self.boxes = defaultdict()\n",
    "        for i in range(self.box_amount):\n",
    "            \n",
    "            filt = (self.map == 0)\n",
    "            \n",
    "            for j in self.boxes.keys():\n",
    "                coords = self.boxes[j]['coords']\n",
    "                filt[coords[0], coords[1]] = 0\n",
    "                \n",
    "            filt = np.array(filt, dtype = 'int')\n",
    "            rnd_p = random.choice(np.argwhere(filt))\n",
    "            self.boxes[i] = defaultdict()\n",
    "            self.boxes[i]['coords'] = list(rnd_p)\n",
    "            self.boxes[i]['locked'] = False\n",
    "            self.boxes[i]['locked_team'] = None\n",
    "            \n",
    "    def initialize_agents(self):\n",
    "        self.agents = defaultdict()\n",
    "        self.agents['seekers'] = defaultdict()\n",
    "        self.agents['hiders'] = defaultdict()\n",
    "        \n",
    "        for s in range(self.seakers_amount):\n",
    "            filt = (self.map == 0)\n",
    "            for i in self.boxes.keys():\n",
    "                coords = self.boxes[i]['coords']\n",
    "                filt[coords[0], coords[1]] = 0\n",
    "            filt = np.array(filt, dtype = 'int')\n",
    "            \n",
    "            for agent_id in self.agents['seekers'].keys():\n",
    "                ag_coords = self.agents['seekers'][agent_id]['coords']\n",
    "                filt[ag_coords[0], ag_coords[1]] = 0\n",
    "            \n",
    "            new_agent_coords = rnd_p = random.choice(np.argwhere(filt))\n",
    "            new_agent = defaultdict()\n",
    "            new_agent['coords'] = new_agent_coords\n",
    "            new_agent['sight'] = random.randint(0, 8)\n",
    "            self.agents['seekers'][s] = new_agent\n",
    "            \n",
    "        for h in range(self.hiders_amount):\n",
    "            filt = (self.map == 0)\n",
    "            for i in self.boxes.keys():\n",
    "                coords = self.boxes[i]['coords']\n",
    "                filt[coords[0], coords[1]] = 0\n",
    "            filt = np.array(filt, dtype = 'int')\n",
    "            \n",
    "            for agent_id in self.agents['seekers'].keys():\n",
    "                ag_coords = self.agents['seekers'][agent_id]['coords']\n",
    "                filt[ag_coords[0], ag_coords[1]] = 0\n",
    "                \n",
    "            for agent_id in self.agents['hiders'].keys():\n",
    "                ag_coords = self.agents['hiders'][agent_id]['coords']\n",
    "                filt[ag_coords[0], ag_coords[1]] = 0\n",
    "                \n",
    "            new_agent_coords = rnd_p = random.choice(np.argwhere(filt))\n",
    "            new_agent = defaultdict()\n",
    "            new_agent['coords'] = new_agent_coords\n",
    "            new_agent['sight'] = random.randint(0, 8)\n",
    "            self.agents['hiders'][h] = new_agent\n",
    "            \n",
    "    def check_coords(self, coords):\n",
    "        # check if it's outside the map\n",
    "        if (coords[0] >= 0)&(coords[0] < self.map_size)&(coords[1] >= 0)&(coords[1] < self.map_size):\n",
    "            # check if it is wall\n",
    "            map_section = self.map[coords[0], coords[1]]\n",
    "            # if it is free\n",
    "            if map_section == 0:\n",
    "                # check if agent there\n",
    "                no_agent = True\n",
    "                for team in ['hiders', 'seekers']:\n",
    "                    for agent_key in list(self.agents[team].keys()):\n",
    "                        if list(self.agents[team][agent_key]['coords']) == list(coords):\n",
    "                            no_agent = False\n",
    "                # if there is no agent\n",
    "                if no_agent:\n",
    "                    # check if there a box\n",
    "                    no_box = True\n",
    "                    for b_ in range(self.box_amount):\n",
    "                        # check collision\n",
    "                        if list(self.boxes[b_]['coords']) == list(coords):\n",
    "                            # if collision check if it's a free space\n",
    "                            no_box = False\n",
    "                    if no_box:\n",
    "                        return [True]\n",
    "                    \n",
    "                    else:\n",
    "                        return [False, 'box', b_]\n",
    "                \n",
    "                else:\n",
    "                    return [False, 'agent']\n",
    "            else:\n",
    "                return [False, 'wall']\n",
    "        else:\n",
    "            return [False, 'map edge']\n",
    "                \n",
    "    def move(self, agent_teem_id, agent_id, rotation_code, move_code, interaction_code):\n",
    "        # check step limit\n",
    "        if self.step_limit == 0:\n",
    "            if self.debug:\n",
    "                print('step limit reached, error')\n",
    "        # if not reached\n",
    "        else:\n",
    "            # check imputs\n",
    "            self.step_limit -= 1\n",
    "            if self.debug:\n",
    "                print(self.step_limit, 'steps left')\n",
    "\n",
    "            if rotation_code not in self.valid_rotations:\n",
    "                if self.debug:\n",
    "                    print('icorrect rotation') \n",
    "            else:\n",
    "                old_sight = self.agents[self.team_mask[agent_teem_id]][agent_id]['sight']\n",
    "                new_sight = self.sights[(old_sight + rotation_code)%8]\n",
    "                self.agents[self.team_mask[agent_teem_id]][agent_id]['sight'] = new_sight\n",
    "                    \n",
    "            if move_code not in self.valid_moves:\n",
    "                if self.debug:\n",
    "                    print('icorrect move')\n",
    "    \n",
    "            # apply inputs\n",
    "            elif move_code == 1:\n",
    "                \n",
    "                agent_old_coords = self.agents[self.team_mask[agent_teem_id]][agent_id]['coords']\n",
    "                direction = self.agents[self.team_mask[agent_teem_id]][agent_id]['sight']\n",
    "                move = self.move_map[direction][0], self.move_map[direction][1]\n",
    "                \n",
    "                y_old, x_old = agent_old_coords[0], agent_old_coords[1]\n",
    "                y_shift, x_shift = move[0], move[1]\n",
    "                \n",
    "                new_coords = [y_old + y_shift, x_old + x_shift]\n",
    "                new_crds_check = self.check_coords(new_coords)\n",
    "                if new_crds_check[0] == True:\n",
    "                    self.agents[self.team_mask[agent_teem_id]][agent_id]['coords'] = np.array(new_coords)\n",
    "                if new_crds_check[0] == False:\n",
    "                    # if there is a box\n",
    "                    if new_crds_check[1] == 'box':\n",
    "                        # check if box can be moved\n",
    "                        old_box_coords = self.boxes[new_crds_check[2]]['coords']\n",
    "                        new_box_coords = [old_box_coords[0] + y_shift, old_box_coords[1] + x_shift]\n",
    "                        new_box_crds_check = self.check_coords(new_box_coords)\n",
    "                        if new_box_crds_check[0] == True:\n",
    "                            self.agents[self.team_mask[agent_teem_id]][agent_id]['coords'] =  np.array(new_coords)\n",
    "                            self.boxes[new_crds_check[2]]['coords'] =  np.array(new_box_coords)\n",
    "                        else:\n",
    "                            if self.debug:\n",
    "                                print('box cannot be moved')\n",
    "                    else:\n",
    "                        print(\"can't move, stuck: \", new_crds_check[1])\n",
    "                            \n",
    "            if interaction_code not in self.valid_interactions:\n",
    "                if self.debug:\n",
    "                    print('icorrect interaction')\n",
    "                    \n",
    "    def show_map(self):\n",
    "        map_to_show = np.array(self.map, dtype=object)\n",
    "        for team_ in list(self.agents.keys()):\n",
    "            for agent_key in list(self.agents[team_].keys()):\n",
    "                target = self.agents[team_][agent_key]['coords']\n",
    "                y_t, x_t = target[0], target[1]\n",
    "                if team_ == 'hiders':\n",
    "                    map_to_show[y_t, x_t] = 2\n",
    "                else:\n",
    "                    map_to_show[y_t, x_t] = 3\n",
    "        for box_id in list(self.boxes.keys()):\n",
    "            target = self.boxes[box_id]['coords']\n",
    "            y_t, x_t = target[0], target[1]\n",
    "            map_to_show[y_t, x_t] = 8\n",
    "        print(np.array2string(map_to_show, separator=' ', formatter={'str_kind': lambda x: x}))\n",
    "        # print(map_to_show, sep =', ')\n",
    "            \n",
    "    # def observation(self, agent_team, agent_number):\n",
    "                                \n",
    "    def reward(self):\n",
    "        # we need to define a reward\n",
    "        reward = 0\n",
    "        \n",
    "        return reward\n",
    "\n",
    "    def reset(self):\n",
    "        \n",
    "        if self.use_seed:\n",
    "            random.seed(self.seed)\n",
    "            \n",
    "        self.step_limit = self.base_step_limit\n",
    "        self.initialize_map()"
   ]
  },
  {
   "cell_type": "code",
   "execution_count": 277,
   "metadata": {},
   "outputs": [
    {
     "name": "stdout",
     "output_type": "stream",
     "text": [
      "[[8 0 0 0 0 0 0 0]\n",
      " [0 8 0 0 0 2 0 3]\n",
      " [0 0 0 0 0 0 0 0]\n",
      " [0 0 0 1 1 0 1 1]\n",
      " [0 0 0 1 0 0 0 0]\n",
      " [0 0 0 1 0 0 0 2]\n",
      " [0 0 8 0 0 3 0 8]\n",
      " [0 0 0 1 0 0 0 0]]\n"
     ]
    }
   ],
   "source": [
    "new_env = env(1, 8)\n",
    "new_env.show_map()"
   ]
  },
  {
   "cell_type": "code",
   "execution_count": 278,
   "metadata": {},
   "outputs": [
    {
     "data": {
      "text/plain": [
       "defaultdict(None,\n",
       "            {'seekers': defaultdict(None,\n",
       "                         {0: defaultdict(None,\n",
       "                                      {'coords': array([6, 5], dtype=int64),\n",
       "                                       'sight': 3}),\n",
       "                          1: defaultdict(None,\n",
       "                                      {'coords': array([1, 7], dtype=int64),\n",
       "                                       'sight': 0})}),\n",
       "             'hiders': defaultdict(None,\n",
       "                         {0: defaultdict(None,\n",
       "                                      {'coords': array([5, 7], dtype=int64),\n",
       "                                       'sight': 6}),\n",
       "                          1: defaultdict(None,\n",
       "                                      {'coords': array([1, 5], dtype=int64),\n",
       "                                       'sight': 7})})})"
      ]
     },
     "execution_count": 278,
     "metadata": {},
     "output_type": "execute_result"
    }
   ],
   "source": [
    "new_env.debug = 1\n",
    "new_env.agents"
   ]
  },
  {
   "cell_type": "code",
   "execution_count": 290,
   "metadata": {},
   "outputs": [
    {
     "name": "stdout",
     "output_type": "stream",
     "text": [
      "231 steps left\n",
      "[[8 0 0 0 0 0 0 0]\n",
      " [0 8 0 0 0 2 0 3]\n",
      " [0 0 0 0 0 0 0 0]\n",
      " [0 0 0 1 1 0 1 1]\n",
      " [0 0 0 1 0 0 0 0]\n",
      " [0 0 8 1 0 0 0 2]\n",
      " [0 0 0 0 0 0 0 8]\n",
      " [0 0 0 1 0 0 0 3]]\n"
     ]
    }
   ],
   "source": [
    "new_env.move(0, 0, 0, 0, 0)\n",
    "new_env.show_map()"
   ]
  },
  {
   "cell_type": "code",
   "execution_count": 284,
   "metadata": {},
   "outputs": [
    {
     "data": {
      "text/plain": [
       "defaultdict(None,\n",
       "            {'seekers': defaultdict(None,\n",
       "                         {0: defaultdict(None,\n",
       "                                      {'coords': array([6, 7], dtype=int64),\n",
       "                                       'sight': 0}),\n",
       "                          1: defaultdict(None,\n",
       "                                      {'coords': array([1, 7], dtype=int64),\n",
       "                                       'sight': 0})}),\n",
       "             'hiders': defaultdict(None,\n",
       "                         {0: defaultdict(None,\n",
       "                                      {'coords': array([5, 7], dtype=int64),\n",
       "                                       'sight': 6}),\n",
       "                          1: defaultdict(None,\n",
       "                                      {'coords': array([1, 5], dtype=int64),\n",
       "                                       'sight': 7})})})"
      ]
     },
     "execution_count": 284,
     "metadata": {},
     "output_type": "execute_result"
    }
   ],
   "source": [
    "new_env.agents"
   ]
  },
  {
   "cell_type": "code",
   "execution_count": 285,
   "metadata": {},
   "outputs": [
    {
     "data": {
      "text/plain": [
       "defaultdict(None,\n",
       "            {0: defaultdict(None,\n",
       "                         {'coords': [6, 7],\n",
       "                          'locked': False,\n",
       "                          'locked_team': None}),\n",
       "             1: defaultdict(None,\n",
       "                         {'coords': [0, 0],\n",
       "                          'locked': False,\n",
       "                          'locked_team': None}),\n",
       "             2: defaultdict(None,\n",
       "                         {'coords': [1, 1],\n",
       "                          'locked': False,\n",
       "                          'locked_team': None}),\n",
       "             3: defaultdict(None,\n",
       "                         {'coords': array([5, 2], dtype=int64),\n",
       "                          'locked': False,\n",
       "                          'locked_team': None})})"
      ]
     },
     "execution_count": 285,
     "metadata": {},
     "output_type": "execute_result"
    }
   ],
   "source": [
    "new_env.boxes"
   ]
  },
  {
   "cell_type": "code",
   "execution_count": 124,
   "metadata": {},
   "outputs": [
    {
     "data": {
      "text/plain": [
       "defaultdict(None,\n",
       "            {0: defaultdict(None,\n",
       "                         {'coords': [0, 8],\n",
       "                          'locked': False,\n",
       "                          'locked_team': None}),\n",
       "             1: defaultdict(None,\n",
       "                         {'coords': [1, 7],\n",
       "                          'locked': False,\n",
       "                          'locked_team': None}),\n",
       "             2: defaultdict(None,\n",
       "                         {'coords': [6, 5],\n",
       "                          'locked': False,\n",
       "                          'locked_team': None}),\n",
       "             3: defaultdict(None,\n",
       "                         {'coords': [0, 6],\n",
       "                          'locked': False,\n",
       "                          'locked_team': None})})"
      ]
     },
     "execution_count": 124,
     "metadata": {},
     "output_type": "execute_result"
    }
   ],
   "source": [
    "new_env.boxes"
   ]
  },
  {
   "cell_type": "code",
   "execution_count": 29,
   "metadata": {},
   "outputs": [
    {
     "data": {
      "text/plain": [
       "14"
      ]
     },
     "execution_count": 29,
     "metadata": {},
     "output_type": "execute_result"
    }
   ],
   "source": [
    "def move(teem, agent, rotation, move, interaction)"
   ]
  },
  {
   "cell_type": "code",
   "execution_count": null,
   "metadata": {},
   "outputs": [],
   "source": [
    "        # self.valid_rotations = ['-90 deg', '-45 deg', 'pass', '+45 deg', '+90 deg']\n",
    "        self.valid_rotations = [-2, -1, 0, 1, 2]\n",
    "        \n",
    "        # self.valid_moves = ['backward', 'pass', 'forward']\n",
    "        self.valid_moves = [0, 1, 2]\n",
    "        \n",
    "        # self.valid_interactions = ['pass', 'lock', 'unlock']\n",
    "        self.valid_interactions = [0, 1, 2]"
   ]
  },
  {
   "cell_type": "code",
   "execution_count": 72,
   "metadata": {},
   "outputs": [],
   "source": [
    "test = [0,1,2,3,4,5,6,7]"
   ]
  },
  {
   "cell_type": "code",
   "execution_count": 79,
   "metadata": {},
   "outputs": [],
   "source": [
    "move = 1\n",
    "look = 7"
   ]
  },
  {
   "cell_type": "code",
   "execution_count": 80,
   "metadata": {},
   "outputs": [
    {
     "data": {
      "text/plain": [
       "0"
      ]
     },
     "execution_count": 80,
     "metadata": {},
     "output_type": "execute_result"
    }
   ],
   "source": [
    "test[(look + move)%8]"
   ]
  },
  {
   "cell_type": "code",
   "execution_count": 71,
   "metadata": {},
   "outputs": [
    {
     "data": {
      "text/plain": [
       "9"
      ]
     },
     "execution_count": 71,
     "metadata": {},
     "output_type": "execute_result"
    }
   ],
   "source": [
    "len(test)"
   ]
  },
  {
   "cell_type": "code",
   "execution_count": 11,
   "metadata": {},
   "outputs": [],
   "source": [
    "test_aaa = np.array([[1,2,3],[4,5,6],[7,8,9]])"
   ]
  },
  {
   "cell_type": "code",
   "execution_count": 14,
   "metadata": {},
   "outputs": [
    {
     "data": {
      "text/plain": [
       "array([1, 2, 3])"
      ]
     },
     "execution_count": 14,
     "metadata": {},
     "output_type": "execute_result"
    }
   ],
   "source": [
    "test_aaa[0]"
   ]
  },
  {
   "cell_type": "code",
   "execution_count": null,
   "metadata": {},
   "outputs": [],
   "source": [
    "#1 row\n",
    "#2 column"
   ]
  },
  {
   "cell_type": "code",
   "execution_count": null,
   "metadata": {},
   "outputs": [],
   "source": [
    "#0 pass [0, 0]\n",
    "#1 up [-1, 0]\n",
    "#2 up + right [-1, 1]\n",
    "#3 right [0, 1]\n",
    "#4 bottom + right [1, 1]\n",
    "#5 bottom [1, 0]\n",
    "#6 bottom + left [1, -1]\n",
    "#7 left [0, -1]\n",
    "#8 up + lef [-1, -1]\n",
    "\n",
    "self.move_map = {0:[0,0], \n",
    "                 1:[-1,0], \n",
    "                 2:[-1,1], \n",
    "                 3:[0,1], \n",
    "                 4:[1,1],\n",
    "                 5:[1,0],\n",
    "                 6:[1,-1],\n",
    "                 7:[0,-1],\n",
    "                 8:[-1,-1]}"
   ]
  }
 ],
 "metadata": {
  "kernelspec": {
   "display_name": "Python 3",
   "language": "python",
   "name": "python3"
  },
  "language_info": {
   "codemirror_mode": {
    "name": "ipython",
    "version": 3
   },
   "file_extension": ".py",
   "mimetype": "text/x-python",
   "name": "python",
   "nbconvert_exporter": "python",
   "pygments_lexer": "ipython3",
   "version": "3.7.3"
  }
 },
 "nbformat": 4,
 "nbformat_minor": 2
}
